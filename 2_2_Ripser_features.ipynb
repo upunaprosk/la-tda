{
  "cells": [
    {
      "cell_type": "markdown",
      "metadata": {
        "id": "knFMzZEuK1mO"
      },
      "source": [
        "Notebook for ripser features calculation.\n",
        "Based on [this code](https://github.com/danchern97/tda4atd/blob/main/features_calculation_ripser_and_templates.ipynb).\n",
        "\n",
        "**Running this code requires GPU**  \n",
        "T4 availiable in Free Colab is sufficient to run this code.  \n",
        "Execution info (for calculating features on ```en-dev``` subset (527 entities) and T4):\n",
        " * Average barcode + ripser features calculation on T4: ~15 minutes.  \n",
        " * Storing the barcodes and ripser features requires ~30Mb of free memory."
      ]
    },
    {
      "cell_type": "code",
      "source": [
        "## Uncomment if running in colab\n",
        "# from google.colab import drive\n",
        "# drive.mount('/content/gdrive')\n",
        "# %cd /content/gdrive/My Drive/test-la-tda\n",
        "# %cd la-tda\n",
        "# !pip install -r requirements.txt -q"
      ],
      "metadata": {
        "id": "VIGqdgAAp5YY"
      },
      "execution_count": null,
      "outputs": []
    },
    {
      "cell_type": "code",
      "execution_count": null,
      "metadata": {
        "id": "TDX475rlZirn"
      },
      "outputs": [],
      "source": [
        "# *GPU is required for ripserplusplus\n",
        "!pip install transformers\n",
        "!pip install ripserplusplus"
      ]
    },
    {
      "cell_type": "code",
      "execution_count": 3,
      "metadata": {
        "id": "Tlym489Hivt_"
      },
      "outputs": [],
      "source": [
        "subset = \"dev\""
      ]
    },
    {
      "cell_type": "code",
      "execution_count": 10,
      "metadata": {
        "id": "ZIndHZtZixSX"
      },
      "outputs": [],
      "source": [
        "model_path = \"./bert-base-cased-en-cola_32_3e-05_lr_0.01_decay_balanced/\" # \"./la-tda-models/bert-base-cased-en-cola_32_3e-05_lr_0.01_decay_balanced/\""
      ]
    },
    {
      "cell_type": "code",
      "execution_count": 5,
      "metadata": {
        "id": "J26OfHHselHg"
      },
      "outputs": [],
      "source": [
        "from transformers import AutoModelForSequenceClassification,AutoTokenizer\n",
        "from multiprocessing import Process, Queue, Pool\n",
        "from collections import defaultdict\n",
        "import itertools\n",
        "import re\n",
        "import os\n",
        "from pathlib import Path\n",
        "import subprocess\n",
        "from math import ceil\n",
        "import numpy as np\n",
        "import pandas as pd\n",
        "from tqdm.notebook import tqdm\n",
        "\n",
        "import json\n",
        "import gzip\n",
        "import os.path"
      ]
    },
    {
      "cell_type": "code",
      "execution_count": 6,
      "metadata": {
        "id": "Ukcc_g8aJSR0"
      },
      "outputs": [],
      "source": [
        "np.random.seed(42)"
      ]
    },
    {
      "cell_type": "code",
      "execution_count": 7,
      "metadata": {
        "id": "i3ChEFe7eHSK"
      },
      "outputs": [],
      "source": [
        "import ripserplusplus as rpp\n",
        "# import numpy as np\n",
        "# from tqdm import tqdm\n",
        "import time\n",
        "# from utils import cutoff_matrix\n",
        "\n",
        "###################################\n",
        "# RIPSER FEATURE CALCULATION FORMAT\n",
        "###################################\n",
        "# Format: \"h{dim}\\_{type}\\_{args}\"\n",
        "\n",
        "# Dimension: 0, 1, etc.; homology dimension\n",
        "\n",
        "# Types:\n",
        "\n",
        "#     1. s: sum of lengths; example: \"h1_s\".\n",
        "#     2. m: mean of lengths; example: \"h1_m\"\n",
        "#     3. v: variance of lengths; example \"h1_v\"\n",
        "#     4. e: entropy of persistence diagram.\n",
        "#     2. n: number of barcodes with time of birth/death more/less then threshold.\n",
        "#         2.1. b/d: birth or death\n",
        "#         2.2. m/l: more or less than threshold\n",
        "#         2.2. t: threshold value\n",
        "#        example: \"h0_n_d_m_t0.5\", \"h1_n_b_l_t0.75\"\n",
        "#     3. t: time of birth/death of the longest barcode (not incl. inf).\n",
        "#         3.1. b/d: birth of death\n",
        "#             example: \"h0_t_d\", \"h1_t_b\"\n",
        "\n",
        "####################################\n",
        "\n",
        "def barcode_pop_inf(barcode):\n",
        "    \"\"\"Delete all infinite barcodes\"\"\"\n",
        "    for dim in barcode:\n",
        "        if len(barcode[dim]):\n",
        "            barcode[dim] = barcode[dim][barcode[dim]['death'] != np.inf]\n",
        "    return barcode\n",
        "\n",
        "def barcode_number(barcode, dim=0, bd='death', ml='m', t=0.5):\n",
        "    \"\"\"Calculate number of barcodes in h{dim} with time of birth/death more/less then threshold\"\"\"\n",
        "    if len(barcode[dim]):\n",
        "        if ml == 'm':\n",
        "            return np.sum(barcode[dim][bd] >= t)\n",
        "        elif ml == 'l':\n",
        "            return np.sum(barcode[dim][bd] <= t)\n",
        "        else:\n",
        "            raise Exception(\"Wrong more/less type in barcode_number calculation\")\n",
        "    else:\n",
        "        return 0.0\n",
        "\n",
        "def barcode_time(barcode, dim=0, bd='birth'):\n",
        "    \"\"\"Calculate time of birth/death in h{dim} of longest barcode\"\"\"\n",
        "    if len(barcode[dim]):\n",
        "        max_len_idx = np.argmax(barcode[dim]['death'] - barcode[dim]['birth'])\n",
        "        return barcode[dim][bd][max_len_idx]\n",
        "    else:\n",
        "        return 0.0\n",
        "\n",
        "def barcode_number_of_barcodes(barcode, dim=0):\n",
        "    return len(barcode[dim])\n",
        "\n",
        "def barcode_entropy(barcode, dim=0):\n",
        "    if len(barcode[dim]):\n",
        "        lengths = barcode[dim]['death'] - barcode[dim]['birth']\n",
        "        lengths /= np.sum(lengths)\n",
        "        return -np.sum(lengths*np.log(lengths))\n",
        "    else:\n",
        "        return 0.0\n",
        "\n",
        "\n",
        "# def barcode_lengths(barcode, dim=0):\n",
        "#     return barcode[dim]['death'] - barcode[dim]['birth']\n",
        "\n",
        "def barcode_sum(barcode, dim=0):\n",
        "    \"\"\"Calculate sum of lengths of barcodes in h{dim}\"\"\"\n",
        "    if len(barcode[dim]):\n",
        "        return np.sum(barcode[dim]['death'] - barcode[dim]['birth'])\n",
        "    else:\n",
        "        return 0.0\n",
        "\n",
        "def barcode_mean(barcode, dim=0):\n",
        "    \"\"\"Calculate mean of lengths of barcodes in h{dim}\"\"\"\n",
        "    if len(barcode[dim]):\n",
        "        return np.mean(barcode[dim]['death'] - barcode[dim]['birth'])\n",
        "    else:\n",
        "        return 0.0\n",
        "\n",
        "def barcode_std(barcode, dim=0):\n",
        "    \"\"\"Calculate std of lengths of barcodes in h{dim}\"\"\"\n",
        "    if len(barcode[dim]):\n",
        "        return np.std(barcode[dim]['death'] - barcode[dim]['birth'])\n",
        "    else:\n",
        "        return 0.0\n",
        "\n",
        "def count_ripser_features(barcodes, feature_list=['h0_m']):\n",
        "    \"\"\"Calculate all provided ripser features\"\"\"\n",
        "    # first pop all infs from barcodes\n",
        "    barcodes = [barcode_pop_inf(barcode) for barcode in barcodes]\n",
        "    # calculate features\n",
        "    features = []\n",
        "    for feature in feature_list:\n",
        "        feature = feature.split('_')\n",
        "        # dimension, feature type and args\n",
        "        dim, ftype, fargs = int(feature[0][1:]), feature[1], feature[2:]\n",
        "        if ftype == 's':\n",
        "            feat = [barcode_sum(barcode, dim) for barcode in barcodes]\n",
        "        elif ftype == 'm':\n",
        "            feat = [barcode_mean(barcode, dim) for barcode in barcodes]\n",
        "        elif ftype == 'v':\n",
        "            feat = [barcode_std(barcode, dim) for barcode in barcodes]\n",
        "        elif ftype == 'n':\n",
        "            bd, ml, t = fargs[0], fargs[1], float(fargs[2][1:])\n",
        "            if bd == 'b':\n",
        "                bd = 'birth'\n",
        "            elif bd == 'd':\n",
        "                bd = 'death'\n",
        "            feat = [barcode_number(barcode, dim, bd, ml, t) for barcode in barcodes]\n",
        "        elif ftype == 't':\n",
        "            bd = fargs[0]\n",
        "            if bd == 'b':\n",
        "                bd = 'birth'\n",
        "            elif bd == 'd':\n",
        "                bd = 'death'\n",
        "            feat = [barcode_time(barcode, dim, bd) for barcode in barcodes]\n",
        "        elif ftype == 'nb':\n",
        "            feat = [barcode_number_of_barcodes(barcode, dim) for barcode in barcodes]\n",
        "        elif ftype == 'e':\n",
        "            feat = [barcode_entropy(barcode, dim) for barcode in barcodes]\n",
        "        features.append(feat)\n",
        "    return np.swapaxes(np.array(features), 0, 1) # samples X n_features\n",
        "\n",
        "def matrix_to_ripser(matrix, ntokens, lower_bound=0.0):\n",
        "    \"\"\"Convert matrix to appropriate ripser++ format\"\"\"\n",
        "    matrix = cutoff_matrix(matrix, ntokens)\n",
        "    matrix = (matrix > lower_bound).astype(np.int) * matrix\n",
        "    matrix = 1.0 - matrix\n",
        "    matrix -= np.diag(np.diag(matrix)) # 0 on diagonal\n",
        "    matrix = np.minimum(matrix.T, matrix) # symmetrical, edge emerges if at least one direction is working\n",
        "    return matrix\n",
        "\n",
        "def run_ripser_on_matrix(matrix, dim):\n",
        "    barcode = rpp.run(f\"--format distance --dim {dim}\", data=matrix)\n",
        "    return barcode\n",
        "\n",
        "def get_barcodes(matricies, ntokens_array, dim=1, lower_bound=0.0, layer_head=(0, 0)):\n",
        "    \"\"\"Get barcodes from matrix\"\"\"\n",
        "    barcodes = []\n",
        "    layer, head = layer_head\n",
        "\n",
        "    for i, matrix in enumerate(matricies):\n",
        "#         with open(\"log.txt\", 'w') as fp: # logging into file\n",
        "#             fp.write(str(layer) + \"_\" + str(head) + \"_\" + str(i) + \"\\n\")\n",
        "        matrix = matrix_to_ripser(matrix, ntokens_array[i], lower_bound)\n",
        "        barcode = run_ripser_on_matrix(matrix, dim)\n",
        "        barcodes.append(barcode)\n",
        "    return barcodes\n"
      ]
    },
    {
      "cell_type": "code",
      "execution_count": 8,
      "metadata": {
        "id": "Ug35QOe2Sq57"
      },
      "outputs": [],
      "source": [
        "def cutoff_matrix(matrix, ntokens):\n",
        "    \"\"\"Return normalized submatrix of first n_tokens\"\"\"\n",
        "    matrix = matrix[:ntokens, :ntokens]\n",
        "    matrix /= matrix.sum(axis=1, keepdims=True)\n",
        "    return matrix"
      ]
    },
    {
      "cell_type": "markdown",
      "metadata": {
        "id": "W9W6bsCvelH2"
      },
      "source": [
        "## Load Data"
      ]
    },
    {
      "cell_type": "code",
      "execution_count": 11,
      "metadata": {
        "id": "XOlJZTNV9Nzs"
      },
      "outputs": [],
      "source": [
        "tokenizer = AutoTokenizer.from_pretrained(model_path)\n",
        "max_tokens_amount  = 64\n",
        "MAX_LEN = max_tokens_amount"
      ]
    },
    {
      "cell_type": "code",
      "execution_count": 12,
      "metadata": {
        "colab": {
          "base_uri": "https://localhost:8080/"
        },
        "id": "u5yrTzGPL3oe",
        "outputId": "948b765e-8f93-4e7f-9fbb-e45824e2f740"
      },
      "outputs": [
        {
          "output_type": "execute_result",
          "data": {
            "text/plain": [
              "('./bert-base-cased-en-cola_32_3e-05_lr_0.01_decay_balanced/attentions/dev',\n",
              " './bert-base-cased-en-cola_32_3e-05_lr_0.01_decay_balanced/barcodes/dev')"
            ]
          },
          "metadata": {},
          "execution_count": 12
        }
      ],
      "source": [
        "r_file = model_path + 'attentions/' + subset\n",
        "barcodes_file = model_path + 'barcodes/' +subset\n",
        "r_file, barcodes_file"
      ]
    },
    {
      "cell_type": "code",
      "execution_count": 13,
      "metadata": {
        "id": "iEH9CostHoCa"
      },
      "outputs": [],
      "source": [
        "def get_token_length(batch_texts):\n",
        "    inputs = tokenizer.batch_encode_plus(batch_texts,\n",
        "       return_tensors='pt',\n",
        "       add_special_tokens=True,\n",
        "       max_length=64,             # Max length to truncate/pad\n",
        "       pad_to_max_length=True,         # Pad sentence to max length\n",
        "       truncation=True\n",
        "    )\n",
        "    inputs = inputs['input_ids'].numpy()\n",
        "    n_tokens = []\n",
        "    indexes = np.argwhere(inputs == tokenizer.pad_token_id)\n",
        "    for i in range(inputs.shape[0]):\n",
        "        ids = indexes[(indexes == i)[:, 0]]\n",
        "        if not len(ids):\n",
        "            n_tokens.append(MAX_LEN)\n",
        "        else:\n",
        "            n_tokens.append(ids[0, 1])\n",
        "    return n_tokens"
      ]
    },
    {
      "cell_type": "code",
      "execution_count": 31,
      "metadata": {
        "id": "0vkE2Go9elH4",
        "colab": {
          "base_uri": "https://localhost:8080/"
        },
        "outputId": "82f3c757-eab4-443f-a3d2-7142bcec2a5e"
      },
      "outputs": [
        {
          "output_type": "stream",
          "name": "stderr",
          "text": [
            "/usr/local/lib/python3.10/dist-packages/transformers/tokenization_utils_base.py:2302: FutureWarning: The `pad_to_max_length` argument is deprecated and will be removed in a future version, use `padding=True` or `padding='longest'` to pad to the longest sequence in the batch, or use `padding='max_length'` to pad to a max length. In this case, you can give a specific length with `max_length` (e.g. `max_length=45`) or leave max_length to None to pad to the maximal input size of the model (e.g. 512 for Bert).\n",
            "  warnings.warn(\n"
          ]
        }
      ],
      "source": [
        "data = pd.read_csv(\"./data/en-cola/\" + subset + '.csv')\n",
        "data['tokenizer_length'] = get_token_length(list(data['sentence'].values))\n",
        "sentences = data['sentence']\n",
        "ntokens_array = data['tokenizer_length'].values"
      ]
    },
    {
      "cell_type": "code",
      "execution_count": 32,
      "metadata": {
        "id": "rlRFDFWKMovv"
      },
      "outputs": [],
      "source": [
        "batch_size = 10 # batch size\n",
        "number_of_batches = ceil(len(data['sentence']) / batch_size)\n",
        "DUMP_SIZE = 100 # number of batches to be dumped\n",
        "batched_sentences = np.array_split(data['sentence'].values, number_of_batches)\n",
        "number_of_files = ceil(number_of_batches / DUMP_SIZE)\n",
        "adj_matricies = []\n",
        "adj_filenames = []\n",
        "assert number_of_batches == len(batched_sentences) # sanity check"
      ]
    },
    {
      "cell_type": "markdown",
      "metadata": {
        "id": "PG3Sb1hrelI3"
      },
      "source": [
        "# Ripser features calculation"
      ]
    },
    {
      "cell_type": "markdown",
      "metadata": {
        "id": "zd9H6J3pelI8"
      },
      "source": [
        "Format: \"h{dim}\\_{type}\\_{args}\"\n",
        "\n",
        "Dimension: 0, 1, etc.; homology dimension\n",
        "\n",
        "Types:\n",
        "    \n",
        "    1. s: sum of lengths; example: \"h1_s\".\n",
        "    2. m: mean of lengths; example: \"h1_m\"\n",
        "    3. v: variance of lengths; example \"h1_v\"\n",
        "    4. n: number of barcodes with time of birth/death more/less then threshold.\n",
        "        4.1. b/d: birth or death\n",
        "        4.2. m/l: more or less than threshold\n",
        "        4.2. t: threshold value\n",
        "       example: \"h0_n_d_m_t0.5\", \"h1_n_b_l_t0.75\"\n",
        "    5. t: time of birth/death of the longest barcode (not incl. inf).\n",
        "        3.1. b/d: birth of death\n",
        "        example: \"h0_t_d\", \"h1_t_b\"\n",
        "    6. nb: number of barcodes in dim\n",
        "       example: h0_nb\n",
        "    7. e: entropy; example: \"h1_e\""
      ]
    },
    {
      "cell_type": "code",
      "execution_count": 33,
      "metadata": {
        "id": "Kmh6mwfeelI_",
        "scrolled": true
      },
      "outputs": [],
      "source": [
        "def order_files(path, subset):\n",
        "    files_path = Path(path)\n",
        "    files = list(filter(lambda y: (y.is_file() and subset in str(y)), files_path.iterdir()))\n",
        "    files = [str(_) for _ in files]\n",
        "    files = sorted(files, key=lambda x: int(x.split('_')[-1].split('of')[0][4:].strip()))\n",
        "    return files"
      ]
    },
    {
      "cell_type": "code",
      "execution_count": 34,
      "metadata": {
        "id": "dfn_kSMbcXha"
      },
      "outputs": [],
      "source": [
        "output_dir=model_path\n",
        "attn_dir = model_path + \"/attentions/\"\n",
        "adj_filenames = order_files(path=attn_dir, subset=subset)"
      ]
    },
    {
      "cell_type": "code",
      "execution_count": 35,
      "metadata": {
        "colab": {
          "base_uri": "https://localhost:8080/"
        },
        "id": "foy8xNBlUPwk",
        "outputId": "a99b4b99-b76d-49a7-ccb8-108af555c082"
      },
      "outputs": [
        {
          "output_type": "execute_result",
          "data": {
            "text/plain": [
              "['bert-base-cased-en-cola_32_3e-05_lr_0.01_decay_balanced/attentions/dev_part1of1.npy']"
            ]
          },
          "metadata": {},
          "execution_count": 35
        }
      ],
      "source": [
        "adj_filenames"
      ]
    },
    {
      "cell_type": "code",
      "execution_count": 36,
      "metadata": {
        "id": "6EfxxWr3elJB"
      },
      "outputs": [],
      "source": [
        "dim = 1\n",
        "lower_bound = 1e-3"
      ]
    },
    {
      "cell_type": "markdown",
      "metadata": {
        "id": "eeeWTxh2elJC"
      },
      "source": [
        "## Barcodes calculation"
      ]
    },
    {
      "cell_type": "code",
      "execution_count": 37,
      "metadata": {
        "id": "OQ_WQHXUelJE"
      },
      "outputs": [],
      "source": [
        "def subprocess_wrap(queue, function, args):\n",
        "    queue.put(function(*args))\n",
        "    queue.close()\n",
        "    exit()"
      ]
    },
    {
      "cell_type": "code",
      "execution_count": 38,
      "metadata": {
        "id": "VpH0u_v8elJF"
      },
      "outputs": [],
      "source": [
        "def get_only_barcodes(adj_matricies, ntokens_array, dim, lower_bound, verbose=False):\n",
        "    \"\"\"Get barcodes from adj matricies for each layer, head\"\"\"\n",
        "    barcodes = {}\n",
        "    layers, heads = range(adj_matricies.shape[1]), range(adj_matricies.shape[2])\n",
        "    iter = itertools.product(layers, heads)\n",
        "    if verbose:\n",
        "        iter = tqdm(iter, 'Layer, Head', leave=False)\n",
        "    for (layer, head) in iter:\n",
        "        matricies = adj_matricies[:, layer, head, :, :]\n",
        "        barcodes[(layer, head)] = get_barcodes(matricies, ntokens_array, dim, lower_bound, (layer, head))\n",
        "    return barcodes\n",
        "\n",
        "def format_barcodes(barcodes):\n",
        "    \"\"\"Reformat barcodes to json-compatible format\"\"\"\n",
        "    return [{d: b[d].tolist() for d in b} for b in barcodes]\n",
        "\n",
        "def save_barcodes(barcodes, filename):\n",
        "    \"\"\"Save barcodes to file\"\"\"\n",
        "    formatted_barcodes = defaultdict(dict)\n",
        "    for layer, head in barcodes:\n",
        "        formatted_barcodes[layer][head] = format_barcodes(barcodes[(layer, head)])\n",
        "    json.dump(formatted_barcodes, open(filename, 'w'))\n",
        "\n",
        "def unite_barcodes(barcodes, barcodes_part):\n",
        "    \"\"\"Unite 2 barcodes\"\"\"\n",
        "    for (layer, head) in barcodes_part:\n",
        "        barcodes[(layer, head)].extend(barcodes_part[(layer, head)])\n",
        "    return barcodes\n",
        "\n",
        "def split_matricies_and_lengths(adj_matricies, ntokens, number_of_splits):\n",
        "    splitted_ids = np.array_split(np.arange(ntokens.shape[0]), number_of_splits)\n",
        "    splitted = [(adj_matricies[ids], ntokens[ids]) for ids in splitted_ids]\n",
        "    return splitted"
      ]
    },
    {
      "cell_type": "code",
      "execution_count": 43,
      "metadata": {
        "id": "RoqaIrgCTyao"
      },
      "outputs": [],
      "source": [
        "barcodes_dir = model_path + 'features/barcodes/'\n",
        "!mkdir $barcodes_dir"
      ]
    },
    {
      "cell_type": "code",
      "execution_count": 45,
      "metadata": {
        "id": "dM8pT0WJelJH",
        "scrolled": true,
        "colab": {
          "base_uri": "https://localhost:8080/",
          "height": 84,
          "referenced_widgets": [
            "2643aa38a6f3409f937ce8e1b34aa7b4",
            "9b6cf1a1e07641b09bb2f7967e9f26ef",
            "751c974f97dc4bfb92cc5209674e0ecc",
            "3d6e0f292b23452c92050e0a943fb376",
            "c0332c0cff354643bcc79c7826dfdfe6",
            "68ebcdac6c6d4c9c825ac1262b6e75e4",
            "dcb63d64597c4574b06aa7f0ceeefd02",
            "27539196480840209cfbe09322373add",
            "4d51ada9cff54f95bf217d562fdc8165",
            "faa94bd5b3f3416d98f94d764b85ae88",
            "7ecf99f01a324d26b3f10c03ab4039bc"
          ]
        },
        "outputId": "3a994617-4f9b-43b1-da7a-6238b1f6842e"
      },
      "outputs": [
        {
          "output_type": "display_data",
          "data": {
            "text/plain": [
              "Barcodes calculation:   0%|          | 0/1 [00:00<?, ?it/s]"
            ],
            "application/vnd.jupyter.widget-view+json": {
              "version_major": 2,
              "version_minor": 0,
              "model_id": "2643aa38a6f3409f937ce8e1b34aa7b4"
            }
          },
          "metadata": {}
        },
        {
          "output_type": "stream",
          "name": "stdout",
          "text": [
            "file already exists\n",
            "passing ./bert-base-cased-en-cola_32_3e-05_lr_0.01_decay_balanced//features/barcodes/dev_part1of1.json\n"
          ]
        }
      ],
      "source": [
        "queue = Queue()\n",
        "number_of_splits = 4\n",
        "run_in_parallel = False\n",
        "\n",
        "for i, filename in enumerate(tqdm(adj_filenames, desc='Barcodes calculation')):\n",
        "    part = filename.split('_')[-1].split('.')[0]\n",
        "    if os.path.isfile(barcodes_file + '_' + part + '.json'):\n",
        "        print(\"file already exists\")\n",
        "        print(\"passing\", barcodes_file + '_' + part + '.json')\n",
        "        continue\n",
        "\n",
        "    barcodes = defaultdict(list)\n",
        "    if \"gz\" in filename:\n",
        "        with gzip.GzipFile(filename, 'rb') as f:\n",
        "            adj_matricies = np.load(f, allow_pickle=True)\n",
        "    else:\n",
        "        with open(filename, 'rb') as f:\n",
        "            adj_matricies = np.load(f, allow_pickle=True)\n",
        "    ntokens = ntokens_array[i*batch_size*DUMP_SIZE : (i+1)*batch_size*DUMP_SIZE]\n",
        "    if not run_in_parallel:\n",
        "        barcodes = get_only_barcodes(adj_matricies, ntokens, dim, lower_bound, verbose=True)\n",
        "    else:\n",
        "        splitted = split_matricies_and_lengths(adj_matricies, ntokens, number_of_splits)\n",
        "        for matricies, ntokens in tqdm(splitted, leave=False):\n",
        "            p = Process(\n",
        "                target=subprocess_wrap,\n",
        "                args=(\n",
        "                    queue,\n",
        "                    get_only_barcodes,\n",
        "                    (matricies, ntokens, dim, lower_bound)\n",
        "                )\n",
        "            )\n",
        "            p.start()\n",
        "            barcodes_part = queue.get() # block until putted and get barcodes from the queue\n",
        "            p.join() # release resources\n",
        "            p.close() # releasing resources of ripser\n",
        "            barcodes = unite_barcodes(barcodes, barcodes_part)\n",
        "\n",
        "\n",
        "    save_barcodes(barcodes, barcodes_file + '_' + part + '.json')"
      ]
    },
    {
      "cell_type": "code",
      "execution_count": 46,
      "metadata": {
        "colab": {
          "base_uri": "https://localhost:8080/",
          "height": 36
        },
        "id": "7xcIXaP0qYl8",
        "outputId": "6aaaf0c4-74b7-4fd7-b99a-da37921351e5"
      },
      "outputs": [
        {
          "output_type": "execute_result",
          "data": {
            "text/plain": [
              "'./bert-base-cased-en-cola_32_3e-05_lr_0.01_decay_balanced//features/barcodes/dev'"
            ],
            "application/vnd.google.colaboratory.intrinsic+json": {
              "type": "string"
            }
          },
          "metadata": {},
          "execution_count": 46
        }
      ],
      "source": [
        "barcodes_file=f\"{model_path}/features/barcodes/{subset}\"\n",
        "barcodes_file"
      ]
    },
    {
      "cell_type": "markdown",
      "metadata": {
        "id": "x3MnQ0fQelJJ"
      },
      "source": [
        "## Barcodes' ripser features"
      ]
    },
    {
      "cell_type": "code",
      "execution_count": 50,
      "metadata": {
        "id": "hvKj5rJfelJL"
      },
      "outputs": [],
      "source": [
        "ripser_features=[\n",
        "    'h0_s',\n",
        "    'h0_e',\n",
        "    'h0_t_d',\n",
        "    'h0_n_d_m_t0.75',\n",
        "    'h0_n_d_m_t0.5',\n",
        "    'h0_n_d_l_t0.25',\n",
        "    'h1_t_b',\n",
        "    'h1_n_b_m_t0.25',\n",
        "    'h1_n_b_l_t0.95',\n",
        "    'h1_n_b_l_t0.70',\n",
        "    'h1_s',\n",
        "    'h1_e',\n",
        "    'h1_v',\n",
        "    'h1_nb'\n",
        "]"
      ]
    },
    {
      "cell_type": "code",
      "execution_count": 56,
      "metadata": {
        "colab": {
          "base_uri": "https://localhost:8080/"
        },
        "id": "OD-L4b1WelJM",
        "outputId": "c511128a-9e43-4e04-c8d0-4e2395646fe0",
        "scrolled": true
      },
      "outputs": [
        {
          "output_type": "execute_result",
          "data": {
            "text/plain": [
              "['./bert-base-cased-en-cola_32_3e-05_lr_0.01_decay_balanced//features/barcodes/dev_part1of1.json']"
            ]
          },
          "metadata": {},
          "execution_count": 56
        }
      ],
      "source": [
        "json_filenames = [\n",
        "    output_dir + '/features/barcodes/' + filename\n",
        "    for filename in os.listdir(model_path + '/features/barcodes/') if r_file.split('/')[-1] in filename.split('_part')[0]\n",
        "\n",
        "]\n",
        "json_filenames = sorted(json_filenames, key = lambda x: int(x.split('_')[-1].split('of')[0][4:].strip()))\n",
        "json_filenames"
      ]
    },
    {
      "cell_type": "code",
      "execution_count": 57,
      "metadata": {
        "id": "XTq54Bc4elJO"
      },
      "outputs": [],
      "source": [
        "def reformat_barcodes(barcodes):\n",
        "    \"\"\"Return barcodes to their original format\"\"\"\n",
        "    formatted_barcodes = []\n",
        "    for barcode in barcodes:\n",
        "        formatted_barcode = {}\n",
        "        for dim in barcode:\n",
        "            formatted_barcode[int(dim)] = np.asarray(\n",
        "                [(b, d) for b,d in barcode[dim]], dtype=[('birth', '<f4'), ('death', '<f4')]\n",
        "            )\n",
        "        formatted_barcodes.append(formatted_barcode)\n",
        "    return formatted_barcodes"
      ]
    },
    {
      "cell_type": "code",
      "execution_count": 58,
      "metadata": {
        "id": "NVF1l3djelJQ",
        "scrolled": true,
        "colab": {
          "base_uri": "https://localhost:8080/",
          "height": 66,
          "referenced_widgets": [
            "cc41ad95a3844ee697ae26faa1c71694",
            "53216a0960ee4704a269aa7db5391010",
            "bc5410e05e6c4c9fbef2265b110f167d",
            "3da51b22f2004e6d9816f30d4345cadb",
            "2fcf65f059184c17a07449c39bf4b838",
            "f28476c5d61646a9874ac08e57aed9cf",
            "0f2ecd79ce164ef384e7ffc8693ae1be",
            "4cb1052d1c574349b46ae26bec8b19d3",
            "7f4e9e9e34c94d0685c1f8b89924822f",
            "e86568a62b6f494887678a862a3032f8",
            "0f4ea208e5d44900ac27e89c996d46fa"
          ]
        },
        "outputId": "5c2c6c6e-260b-4214-9424-239b084ace88"
      },
      "outputs": [
        {
          "output_type": "display_data",
          "data": {
            "text/plain": [
              "Computing ripser++:   0%|          | 0/1 [00:00<?, ?it/s]"
            ],
            "application/vnd.jupyter.widget-view+json": {
              "version_major": 2,
              "version_minor": 0,
              "model_id": "cc41ad95a3844ee697ae26faa1c71694"
            }
          },
          "metadata": {}
        },
        {
          "output_type": "stream",
          "name": "stdout",
          "text": [
            "Barcodes loaded from: ./bert-base-cased-en-cola_32_3e-05_lr_0.01_decay_balanced//features/barcodes/dev_part1of1.json\n"
          ]
        }
      ],
      "source": [
        "features_array = []\n",
        "\n",
        "for filename in tqdm(json_filenames, desc='Computing ripser++'):\n",
        "    barcodes = json.load(open(filename))\n",
        "    print(f\"Barcodes loaded from: {filename}\", flush=True)\n",
        "    features_part = []\n",
        "    for layer in barcodes:\n",
        "        features_layer = []\n",
        "        for head in barcodes[layer]:\n",
        "            ref_barcodes = reformat_barcodes(barcodes[layer][head])\n",
        "            features = count_ripser_features(ref_barcodes, ripser_features)\n",
        "            features_layer.append(features)\n",
        "        features_part.append(features_layer)\n",
        "    features_array.append(np.asarray(features_part))"
      ]
    },
    {
      "cell_type": "code",
      "execution_count": 59,
      "metadata": {
        "colab": {
          "base_uri": "https://localhost:8080/"
        },
        "id": "j94XU9UmelJT",
        "outputId": "7b902739-931a-4a57-ce05-b5300e2183cd"
      },
      "outputs": [
        {
          "output_type": "execute_result",
          "data": {
            "text/plain": [
              "(12, 12, 527, 14)"
            ]
          },
          "metadata": {},
          "execution_count": 59
        }
      ],
      "source": [
        "features = np.concatenate(features_array, axis=2)\n",
        "features.shape"
      ]
    },
    {
      "cell_type": "code",
      "execution_count": 60,
      "metadata": {
        "colab": {
          "base_uri": "https://localhost:8080/",
          "height": 36
        },
        "id": "DBNvwbG-rsyM",
        "outputId": "e3bc0553-1de4-4bb0-c11c-620462b3b973"
      },
      "outputs": [
        {
          "output_type": "execute_result",
          "data": {
            "text/plain": [
              "'./bert-base-cased-en-cola_32_3e-05_lr_0.01_decay_balanced/features/dev_ripser.npy'"
            ],
            "application/vnd.google.colaboratory.intrinsic+json": {
              "type": "string"
            }
          },
          "metadata": {},
          "execution_count": 60
        }
      ],
      "source": [
        "ripser_file=f\"{model_path}features/{subset}_ripser.npy\"\n",
        "ripser_file"
      ]
    },
    {
      "cell_type": "code",
      "execution_count": null,
      "metadata": {
        "id": "s4jgxv88FTUC"
      },
      "outputs": [],
      "source": [
        "%cd $model_path\n",
        "!mkdir features"
      ]
    },
    {
      "cell_type": "code",
      "source": [
        "%cd .."
      ],
      "metadata": {
        "id": "wtqoB84Xs_kA"
      },
      "execution_count": null,
      "outputs": []
    },
    {
      "cell_type": "code",
      "execution_count": 64,
      "metadata": {
        "id": "vDgyEX-relJU"
      },
      "outputs": [],
      "source": [
        "np.save(ripser_file, features)"
      ]
    }
  ],
  "metadata": {
    "accelerator": "GPU",
    "colab": {
      "provenance": [],
      "gpuType": "T4"
    },
    "kernelspec": {
      "display_name": "Python 3",
      "name": "python3"
    },
    "language_info": {
      "codemirror_mode": {
        "name": "ipython",
        "version": 3
      },
      "file_extension": ".py",
      "mimetype": "text/x-python",
      "name": "python",
      "nbconvert_exporter": "python",
      "pygments_lexer": "ipython3",
      "version": "3.9.7"
    },
    "pycharm": {
      "stem_cell": {
        "cell_type": "raw",
        "metadata": {
          "collapsed": false
        },
        "source": []
      }
    },
    "widgets": {
      "application/vnd.jupyter.widget-state+json": {
        "2643aa38a6f3409f937ce8e1b34aa7b4": {
          "model_module": "@jupyter-widgets/controls",
          "model_name": "HBoxModel",
          "model_module_version": "1.5.0",
          "state": {
            "_dom_classes": [],
            "_model_module": "@jupyter-widgets/controls",
            "_model_module_version": "1.5.0",
            "_model_name": "HBoxModel",
            "_view_count": null,
            "_view_module": "@jupyter-widgets/controls",
            "_view_module_version": "1.5.0",
            "_view_name": "HBoxView",
            "box_style": "",
            "children": [
              "IPY_MODEL_9b6cf1a1e07641b09bb2f7967e9f26ef",
              "IPY_MODEL_751c974f97dc4bfb92cc5209674e0ecc",
              "IPY_MODEL_3d6e0f292b23452c92050e0a943fb376"
            ],
            "layout": "IPY_MODEL_c0332c0cff354643bcc79c7826dfdfe6"
          }
        },
        "9b6cf1a1e07641b09bb2f7967e9f26ef": {
          "model_module": "@jupyter-widgets/controls",
          "model_name": "HTMLModel",
          "model_module_version": "1.5.0",
          "state": {
            "_dom_classes": [],
            "_model_module": "@jupyter-widgets/controls",
            "_model_module_version": "1.5.0",
            "_model_name": "HTMLModel",
            "_view_count": null,
            "_view_module": "@jupyter-widgets/controls",
            "_view_module_version": "1.5.0",
            "_view_name": "HTMLView",
            "description": "",
            "description_tooltip": null,
            "layout": "IPY_MODEL_68ebcdac6c6d4c9c825ac1262b6e75e4",
            "placeholder": "​",
            "style": "IPY_MODEL_dcb63d64597c4574b06aa7f0ceeefd02",
            "value": "Barcodes calculation: 100%"
          }
        },
        "751c974f97dc4bfb92cc5209674e0ecc": {
          "model_module": "@jupyter-widgets/controls",
          "model_name": "FloatProgressModel",
          "model_module_version": "1.5.0",
          "state": {
            "_dom_classes": [],
            "_model_module": "@jupyter-widgets/controls",
            "_model_module_version": "1.5.0",
            "_model_name": "FloatProgressModel",
            "_view_count": null,
            "_view_module": "@jupyter-widgets/controls",
            "_view_module_version": "1.5.0",
            "_view_name": "ProgressView",
            "bar_style": "success",
            "description": "",
            "description_tooltip": null,
            "layout": "IPY_MODEL_27539196480840209cfbe09322373add",
            "max": 1,
            "min": 0,
            "orientation": "horizontal",
            "style": "IPY_MODEL_4d51ada9cff54f95bf217d562fdc8165",
            "value": 1
          }
        },
        "3d6e0f292b23452c92050e0a943fb376": {
          "model_module": "@jupyter-widgets/controls",
          "model_name": "HTMLModel",
          "model_module_version": "1.5.0",
          "state": {
            "_dom_classes": [],
            "_model_module": "@jupyter-widgets/controls",
            "_model_module_version": "1.5.0",
            "_model_name": "HTMLModel",
            "_view_count": null,
            "_view_module": "@jupyter-widgets/controls",
            "_view_module_version": "1.5.0",
            "_view_name": "HTMLView",
            "description": "",
            "description_tooltip": null,
            "layout": "IPY_MODEL_faa94bd5b3f3416d98f94d764b85ae88",
            "placeholder": "​",
            "style": "IPY_MODEL_7ecf99f01a324d26b3f10c03ab4039bc",
            "value": " 1/1 [00:00&lt;00:00, 32.51it/s]"
          }
        },
        "c0332c0cff354643bcc79c7826dfdfe6": {
          "model_module": "@jupyter-widgets/base",
          "model_name": "LayoutModel",
          "model_module_version": "1.2.0",
          "state": {
            "_model_module": "@jupyter-widgets/base",
            "_model_module_version": "1.2.0",
            "_model_name": "LayoutModel",
            "_view_count": null,
            "_view_module": "@jupyter-widgets/base",
            "_view_module_version": "1.2.0",
            "_view_name": "LayoutView",
            "align_content": null,
            "align_items": null,
            "align_self": null,
            "border": null,
            "bottom": null,
            "display": null,
            "flex": null,
            "flex_flow": null,
            "grid_area": null,
            "grid_auto_columns": null,
            "grid_auto_flow": null,
            "grid_auto_rows": null,
            "grid_column": null,
            "grid_gap": null,
            "grid_row": null,
            "grid_template_areas": null,
            "grid_template_columns": null,
            "grid_template_rows": null,
            "height": null,
            "justify_content": null,
            "justify_items": null,
            "left": null,
            "margin": null,
            "max_height": null,
            "max_width": null,
            "min_height": null,
            "min_width": null,
            "object_fit": null,
            "object_position": null,
            "order": null,
            "overflow": null,
            "overflow_x": null,
            "overflow_y": null,
            "padding": null,
            "right": null,
            "top": null,
            "visibility": null,
            "width": null
          }
        },
        "68ebcdac6c6d4c9c825ac1262b6e75e4": {
          "model_module": "@jupyter-widgets/base",
          "model_name": "LayoutModel",
          "model_module_version": "1.2.0",
          "state": {
            "_model_module": "@jupyter-widgets/base",
            "_model_module_version": "1.2.0",
            "_model_name": "LayoutModel",
            "_view_count": null,
            "_view_module": "@jupyter-widgets/base",
            "_view_module_version": "1.2.0",
            "_view_name": "LayoutView",
            "align_content": null,
            "align_items": null,
            "align_self": null,
            "border": null,
            "bottom": null,
            "display": null,
            "flex": null,
            "flex_flow": null,
            "grid_area": null,
            "grid_auto_columns": null,
            "grid_auto_flow": null,
            "grid_auto_rows": null,
            "grid_column": null,
            "grid_gap": null,
            "grid_row": null,
            "grid_template_areas": null,
            "grid_template_columns": null,
            "grid_template_rows": null,
            "height": null,
            "justify_content": null,
            "justify_items": null,
            "left": null,
            "margin": null,
            "max_height": null,
            "max_width": null,
            "min_height": null,
            "min_width": null,
            "object_fit": null,
            "object_position": null,
            "order": null,
            "overflow": null,
            "overflow_x": null,
            "overflow_y": null,
            "padding": null,
            "right": null,
            "top": null,
            "visibility": null,
            "width": null
          }
        },
        "dcb63d64597c4574b06aa7f0ceeefd02": {
          "model_module": "@jupyter-widgets/controls",
          "model_name": "DescriptionStyleModel",
          "model_module_version": "1.5.0",
          "state": {
            "_model_module": "@jupyter-widgets/controls",
            "_model_module_version": "1.5.0",
            "_model_name": "DescriptionStyleModel",
            "_view_count": null,
            "_view_module": "@jupyter-widgets/base",
            "_view_module_version": "1.2.0",
            "_view_name": "StyleView",
            "description_width": ""
          }
        },
        "27539196480840209cfbe09322373add": {
          "model_module": "@jupyter-widgets/base",
          "model_name": "LayoutModel",
          "model_module_version": "1.2.0",
          "state": {
            "_model_module": "@jupyter-widgets/base",
            "_model_module_version": "1.2.0",
            "_model_name": "LayoutModel",
            "_view_count": null,
            "_view_module": "@jupyter-widgets/base",
            "_view_module_version": "1.2.0",
            "_view_name": "LayoutView",
            "align_content": null,
            "align_items": null,
            "align_self": null,
            "border": null,
            "bottom": null,
            "display": null,
            "flex": null,
            "flex_flow": null,
            "grid_area": null,
            "grid_auto_columns": null,
            "grid_auto_flow": null,
            "grid_auto_rows": null,
            "grid_column": null,
            "grid_gap": null,
            "grid_row": null,
            "grid_template_areas": null,
            "grid_template_columns": null,
            "grid_template_rows": null,
            "height": null,
            "justify_content": null,
            "justify_items": null,
            "left": null,
            "margin": null,
            "max_height": null,
            "max_width": null,
            "min_height": null,
            "min_width": null,
            "object_fit": null,
            "object_position": null,
            "order": null,
            "overflow": null,
            "overflow_x": null,
            "overflow_y": null,
            "padding": null,
            "right": null,
            "top": null,
            "visibility": null,
            "width": null
          }
        },
        "4d51ada9cff54f95bf217d562fdc8165": {
          "model_module": "@jupyter-widgets/controls",
          "model_name": "ProgressStyleModel",
          "model_module_version": "1.5.0",
          "state": {
            "_model_module": "@jupyter-widgets/controls",
            "_model_module_version": "1.5.0",
            "_model_name": "ProgressStyleModel",
            "_view_count": null,
            "_view_module": "@jupyter-widgets/base",
            "_view_module_version": "1.2.0",
            "_view_name": "StyleView",
            "bar_color": null,
            "description_width": ""
          }
        },
        "faa94bd5b3f3416d98f94d764b85ae88": {
          "model_module": "@jupyter-widgets/base",
          "model_name": "LayoutModel",
          "model_module_version": "1.2.0",
          "state": {
            "_model_module": "@jupyter-widgets/base",
            "_model_module_version": "1.2.0",
            "_model_name": "LayoutModel",
            "_view_count": null,
            "_view_module": "@jupyter-widgets/base",
            "_view_module_version": "1.2.0",
            "_view_name": "LayoutView",
            "align_content": null,
            "align_items": null,
            "align_self": null,
            "border": null,
            "bottom": null,
            "display": null,
            "flex": null,
            "flex_flow": null,
            "grid_area": null,
            "grid_auto_columns": null,
            "grid_auto_flow": null,
            "grid_auto_rows": null,
            "grid_column": null,
            "grid_gap": null,
            "grid_row": null,
            "grid_template_areas": null,
            "grid_template_columns": null,
            "grid_template_rows": null,
            "height": null,
            "justify_content": null,
            "justify_items": null,
            "left": null,
            "margin": null,
            "max_height": null,
            "max_width": null,
            "min_height": null,
            "min_width": null,
            "object_fit": null,
            "object_position": null,
            "order": null,
            "overflow": null,
            "overflow_x": null,
            "overflow_y": null,
            "padding": null,
            "right": null,
            "top": null,
            "visibility": null,
            "width": null
          }
        },
        "7ecf99f01a324d26b3f10c03ab4039bc": {
          "model_module": "@jupyter-widgets/controls",
          "model_name": "DescriptionStyleModel",
          "model_module_version": "1.5.0",
          "state": {
            "_model_module": "@jupyter-widgets/controls",
            "_model_module_version": "1.5.0",
            "_model_name": "DescriptionStyleModel",
            "_view_count": null,
            "_view_module": "@jupyter-widgets/base",
            "_view_module_version": "1.2.0",
            "_view_name": "StyleView",
            "description_width": ""
          }
        },
        "cc41ad95a3844ee697ae26faa1c71694": {
          "model_module": "@jupyter-widgets/controls",
          "model_name": "HBoxModel",
          "model_module_version": "1.5.0",
          "state": {
            "_dom_classes": [],
            "_model_module": "@jupyter-widgets/controls",
            "_model_module_version": "1.5.0",
            "_model_name": "HBoxModel",
            "_view_count": null,
            "_view_module": "@jupyter-widgets/controls",
            "_view_module_version": "1.5.0",
            "_view_name": "HBoxView",
            "box_style": "",
            "children": [
              "IPY_MODEL_53216a0960ee4704a269aa7db5391010",
              "IPY_MODEL_bc5410e05e6c4c9fbef2265b110f167d",
              "IPY_MODEL_3da51b22f2004e6d9816f30d4345cadb"
            ],
            "layout": "IPY_MODEL_2fcf65f059184c17a07449c39bf4b838"
          }
        },
        "53216a0960ee4704a269aa7db5391010": {
          "model_module": "@jupyter-widgets/controls",
          "model_name": "HTMLModel",
          "model_module_version": "1.5.0",
          "state": {
            "_dom_classes": [],
            "_model_module": "@jupyter-widgets/controls",
            "_model_module_version": "1.5.0",
            "_model_name": "HTMLModel",
            "_view_count": null,
            "_view_module": "@jupyter-widgets/controls",
            "_view_module_version": "1.5.0",
            "_view_name": "HTMLView",
            "description": "",
            "description_tooltip": null,
            "layout": "IPY_MODEL_f28476c5d61646a9874ac08e57aed9cf",
            "placeholder": "​",
            "style": "IPY_MODEL_0f2ecd79ce164ef384e7ffc8693ae1be",
            "value": "Computing ripser++: 100%"
          }
        },
        "bc5410e05e6c4c9fbef2265b110f167d": {
          "model_module": "@jupyter-widgets/controls",
          "model_name": "FloatProgressModel",
          "model_module_version": "1.5.0",
          "state": {
            "_dom_classes": [],
            "_model_module": "@jupyter-widgets/controls",
            "_model_module_version": "1.5.0",
            "_model_name": "FloatProgressModel",
            "_view_count": null,
            "_view_module": "@jupyter-widgets/controls",
            "_view_module_version": "1.5.0",
            "_view_name": "ProgressView",
            "bar_style": "success",
            "description": "",
            "description_tooltip": null,
            "layout": "IPY_MODEL_4cb1052d1c574349b46ae26bec8b19d3",
            "max": 1,
            "min": 0,
            "orientation": "horizontal",
            "style": "IPY_MODEL_7f4e9e9e34c94d0685c1f8b89924822f",
            "value": 1
          }
        },
        "3da51b22f2004e6d9816f30d4345cadb": {
          "model_module": "@jupyter-widgets/controls",
          "model_name": "HTMLModel",
          "model_module_version": "1.5.0",
          "state": {
            "_dom_classes": [],
            "_model_module": "@jupyter-widgets/controls",
            "_model_module_version": "1.5.0",
            "_model_name": "HTMLModel",
            "_view_count": null,
            "_view_module": "@jupyter-widgets/controls",
            "_view_module_version": "1.5.0",
            "_view_name": "HTMLView",
            "description": "",
            "description_tooltip": null,
            "layout": "IPY_MODEL_e86568a62b6f494887678a862a3032f8",
            "placeholder": "​",
            "style": "IPY_MODEL_0f4ea208e5d44900ac27e89c996d46fa",
            "value": " 1/1 [00:21&lt;00:00, 21.00s/it]"
          }
        },
        "2fcf65f059184c17a07449c39bf4b838": {
          "model_module": "@jupyter-widgets/base",
          "model_name": "LayoutModel",
          "model_module_version": "1.2.0",
          "state": {
            "_model_module": "@jupyter-widgets/base",
            "_model_module_version": "1.2.0",
            "_model_name": "LayoutModel",
            "_view_count": null,
            "_view_module": "@jupyter-widgets/base",
            "_view_module_version": "1.2.0",
            "_view_name": "LayoutView",
            "align_content": null,
            "align_items": null,
            "align_self": null,
            "border": null,
            "bottom": null,
            "display": null,
            "flex": null,
            "flex_flow": null,
            "grid_area": null,
            "grid_auto_columns": null,
            "grid_auto_flow": null,
            "grid_auto_rows": null,
            "grid_column": null,
            "grid_gap": null,
            "grid_row": null,
            "grid_template_areas": null,
            "grid_template_columns": null,
            "grid_template_rows": null,
            "height": null,
            "justify_content": null,
            "justify_items": null,
            "left": null,
            "margin": null,
            "max_height": null,
            "max_width": null,
            "min_height": null,
            "min_width": null,
            "object_fit": null,
            "object_position": null,
            "order": null,
            "overflow": null,
            "overflow_x": null,
            "overflow_y": null,
            "padding": null,
            "right": null,
            "top": null,
            "visibility": null,
            "width": null
          }
        },
        "f28476c5d61646a9874ac08e57aed9cf": {
          "model_module": "@jupyter-widgets/base",
          "model_name": "LayoutModel",
          "model_module_version": "1.2.0",
          "state": {
            "_model_module": "@jupyter-widgets/base",
            "_model_module_version": "1.2.0",
            "_model_name": "LayoutModel",
            "_view_count": null,
            "_view_module": "@jupyter-widgets/base",
            "_view_module_version": "1.2.0",
            "_view_name": "LayoutView",
            "align_content": null,
            "align_items": null,
            "align_self": null,
            "border": null,
            "bottom": null,
            "display": null,
            "flex": null,
            "flex_flow": null,
            "grid_area": null,
            "grid_auto_columns": null,
            "grid_auto_flow": null,
            "grid_auto_rows": null,
            "grid_column": null,
            "grid_gap": null,
            "grid_row": null,
            "grid_template_areas": null,
            "grid_template_columns": null,
            "grid_template_rows": null,
            "height": null,
            "justify_content": null,
            "justify_items": null,
            "left": null,
            "margin": null,
            "max_height": null,
            "max_width": null,
            "min_height": null,
            "min_width": null,
            "object_fit": null,
            "object_position": null,
            "order": null,
            "overflow": null,
            "overflow_x": null,
            "overflow_y": null,
            "padding": null,
            "right": null,
            "top": null,
            "visibility": null,
            "width": null
          }
        },
        "0f2ecd79ce164ef384e7ffc8693ae1be": {
          "model_module": "@jupyter-widgets/controls",
          "model_name": "DescriptionStyleModel",
          "model_module_version": "1.5.0",
          "state": {
            "_model_module": "@jupyter-widgets/controls",
            "_model_module_version": "1.5.0",
            "_model_name": "DescriptionStyleModel",
            "_view_count": null,
            "_view_module": "@jupyter-widgets/base",
            "_view_module_version": "1.2.0",
            "_view_name": "StyleView",
            "description_width": ""
          }
        },
        "4cb1052d1c574349b46ae26bec8b19d3": {
          "model_module": "@jupyter-widgets/base",
          "model_name": "LayoutModel",
          "model_module_version": "1.2.0",
          "state": {
            "_model_module": "@jupyter-widgets/base",
            "_model_module_version": "1.2.0",
            "_model_name": "LayoutModel",
            "_view_count": null,
            "_view_module": "@jupyter-widgets/base",
            "_view_module_version": "1.2.0",
            "_view_name": "LayoutView",
            "align_content": null,
            "align_items": null,
            "align_self": null,
            "border": null,
            "bottom": null,
            "display": null,
            "flex": null,
            "flex_flow": null,
            "grid_area": null,
            "grid_auto_columns": null,
            "grid_auto_flow": null,
            "grid_auto_rows": null,
            "grid_column": null,
            "grid_gap": null,
            "grid_row": null,
            "grid_template_areas": null,
            "grid_template_columns": null,
            "grid_template_rows": null,
            "height": null,
            "justify_content": null,
            "justify_items": null,
            "left": null,
            "margin": null,
            "max_height": null,
            "max_width": null,
            "min_height": null,
            "min_width": null,
            "object_fit": null,
            "object_position": null,
            "order": null,
            "overflow": null,
            "overflow_x": null,
            "overflow_y": null,
            "padding": null,
            "right": null,
            "top": null,
            "visibility": null,
            "width": null
          }
        },
        "7f4e9e9e34c94d0685c1f8b89924822f": {
          "model_module": "@jupyter-widgets/controls",
          "model_name": "ProgressStyleModel",
          "model_module_version": "1.5.0",
          "state": {
            "_model_module": "@jupyter-widgets/controls",
            "_model_module_version": "1.5.0",
            "_model_name": "ProgressStyleModel",
            "_view_count": null,
            "_view_module": "@jupyter-widgets/base",
            "_view_module_version": "1.2.0",
            "_view_name": "StyleView",
            "bar_color": null,
            "description_width": ""
          }
        },
        "e86568a62b6f494887678a862a3032f8": {
          "model_module": "@jupyter-widgets/base",
          "model_name": "LayoutModel",
          "model_module_version": "1.2.0",
          "state": {
            "_model_module": "@jupyter-widgets/base",
            "_model_module_version": "1.2.0",
            "_model_name": "LayoutModel",
            "_view_count": null,
            "_view_module": "@jupyter-widgets/base",
            "_view_module_version": "1.2.0",
            "_view_name": "LayoutView",
            "align_content": null,
            "align_items": null,
            "align_self": null,
            "border": null,
            "bottom": null,
            "display": null,
            "flex": null,
            "flex_flow": null,
            "grid_area": null,
            "grid_auto_columns": null,
            "grid_auto_flow": null,
            "grid_auto_rows": null,
            "grid_column": null,
            "grid_gap": null,
            "grid_row": null,
            "grid_template_areas": null,
            "grid_template_columns": null,
            "grid_template_rows": null,
            "height": null,
            "justify_content": null,
            "justify_items": null,
            "left": null,
            "margin": null,
            "max_height": null,
            "max_width": null,
            "min_height": null,
            "min_width": null,
            "object_fit": null,
            "object_position": null,
            "order": null,
            "overflow": null,
            "overflow_x": null,
            "overflow_y": null,
            "padding": null,
            "right": null,
            "top": null,
            "visibility": null,
            "width": null
          }
        },
        "0f4ea208e5d44900ac27e89c996d46fa": {
          "model_module": "@jupyter-widgets/controls",
          "model_name": "DescriptionStyleModel",
          "model_module_version": "1.5.0",
          "state": {
            "_model_module": "@jupyter-widgets/controls",
            "_model_module_version": "1.5.0",
            "_model_name": "DescriptionStyleModel",
            "_view_count": null,
            "_view_module": "@jupyter-widgets/base",
            "_view_module_version": "1.2.0",
            "_view_name": "StyleView",
            "description_width": ""
          }
        }
      }
    }
  },
  "nbformat": 4,
  "nbformat_minor": 0
}