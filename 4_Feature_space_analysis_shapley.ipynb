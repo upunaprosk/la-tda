{
 "cells": [
  {
   "cell_type": "code",
   "execution_count": 1,
   "metadata": {},
   "outputs": [],
   "source": [
    "from time import time\n",
    "import numpy as np\n",
    "import pandas as pd\n",
    "import matplotlib.pyplot as plt\n",
    "from sklearn.metrics import make_scorer, matthews_corrcoef, accuracy_score, balanced_accuracy_score, roc_curve\n",
    "from sklearn.linear_model import LogisticRegression\n",
    "from sklearn.decomposition import PCA\n",
    "from sklearn.model_selection import StratifiedKFold,GridSearchCV\n",
    "from sklearn.preprocessing import StandardScaler\n",
    "from sklearn.pipeline import Pipeline\n",
    "from sklearn.feature_selection import VarianceThreshold"
   ]
  },
  {
   "cell_type": "markdown",
   "metadata": {
    "id": "K2dHzOal8ac8"
   },
   "source": [
    "# Read features"
   ]
  },
  {
   "cell_type": "code",
   "execution_count": 2,
   "metadata": {},
   "outputs": [],
   "source": [
    "from read_features import *\n",
    "from threshold_search import *"
   ]
  },
  {
   "cell_type": "code",
   "execution_count": 3,
   "metadata": {
    "colab": {
     "base_uri": "https://localhost:8080/"
    },
    "id": "dSFcFafeBKYW",
    "outputId": "21615155-8acf-43fe-aa27-1a562bf0eac3"
   },
   "outputs": [],
   "source": [
    "STATE=42\n",
    "model_dir = \"./ruBert-base-ru-cola_32_0.0001_lr_0.1_decay_balanced/\"\n",
    "data_dir = \"./data/ru-cola/\""
   ]
  },
  {
   "cell_type": "code",
   "execution_count": 4,
   "metadata": {
    "id": "ucQ5QZPaloet"
   },
   "outputs": [],
   "source": [
    "file_type = \".csv\" # .csv or .tsv\n",
    "train_set_name, valid_set_name, test_set_name = (\"train\", \"dev\",\"test\") \n",
    "data_args = dict(((k, eval(k)) for k in (\"data_dir\", \"file_type\")))\n",
    "(sents_train, y_train), (sents_valid, y_valid), (sents_test, y_test) = list(map(lambda x_: read_labels(x_, **data_args), \n",
    "                                                [x_ for x_ in (train_set_name, valid_set_name, test_set_name)]))"
   ]
  },
  {
   "cell_type": "code",
   "execution_count": 5,
   "metadata": {
    "id": "9mZFHPip4CWc"
   },
   "outputs": [],
   "source": [
    "topological_thr = 6\n",
    "features_dir = model_dir + \"/features/\""
   ]
  },
  {
   "cell_type": "code",
   "execution_count": 6,
   "metadata": {
    "colab": {
     "base_uri": "https://localhost:8080/"
    },
    "id": "1YLVJrbO2R2c",
    "outputId": "3b4d4324-2612-4fc1-c9ae-f771837eedcb"
   },
   "outputs": [
    {
     "name": "stderr",
     "output_type": "stream",
     "text": [
      "Loading train features...: 100%|██████████| 432/432 [00:17<00:00, 24.13it/s]\n",
      "Loading dev features...: 100%|██████████| 432/432 [00:03<00:00, 130.16it/s]\n",
      "Loading test features...: 100%|██████████| 432/432 [00:04<00:00, 86.97it/s] \n"
     ]
    }
   ],
   "source": [
    "kwargs = dict(((k, eval(k)) for k in (\"features_dir\", \"model_dir\", \"topological_thr\")))\n",
    "X_train, X_valid, X_test = list(map(lambda x_: load_features(x_, **kwargs), [x_ for x_ in (train_set_name, valid_set_name, test_set_name)]))"
   ]
  },
  {
   "cell_type": "code",
   "execution_count": 7,
   "metadata": {
    "id": "FMvm9ZIirgNs"
   },
   "outputs": [],
   "source": [
    "# # Exclude weakly connected components equal to b0 Betti number\n",
    "# X_train = X_train.iloc[:, ~X_train.columns.str.startswith('w')]\n",
    "# X_valid = X_valid.iloc[:, ~X_valid.columns.str.startswith('w')]\n",
    "# X_test = X_test.iloc[:, ~X_test.columns.str.startswith(\"w\")]\n",
    "\n",
    "# Removing constant and quasi-constant features\n",
    "var_thr = VarianceThreshold(threshold = 0.000001)\n",
    "var_thr.fit(X_train)\n",
    "not_constant_f = var_thr.get_support()\n",
    "X_train = X_train.loc[:, not_constant_f]\n",
    "X_valid = X_valid.loc[:, not_constant_f]\n",
    "X_test = X_test.loc[:, not_constant_f]"
   ]
  },
  {
   "cell_type": "markdown",
   "metadata": {},
   "source": [
    "# Acceptability classification with topological, ripser, template features"
   ]
  },
  {
   "cell_type": "code",
   "execution_count": 8,
   "metadata": {},
   "outputs": [],
   "source": [
    "def score_mcc(y_true, y_pred):\n",
    "    return matthews_corrcoef(y_true, y_pred)\n",
    "score_mcc_ = make_scorer(score_mcc, greater_is_better=True)\n",
    "# Print summary statistics of the results\n",
    "def report(results, n_top=3):\n",
    "    for i in range(1, n_top + 1):\n",
    "        candidates = np.flatnonzero(results['rank_test_score'] == i)\n",
    "        for candidate in candidates:\n",
    "            print(\"Model with rank: {0}\".format(i))\n",
    "            print(\"Mean validation score: {0:.3f} (std: {1:.3f})\"\n",
    "                  .format(results['mean_test_score'][candidate],\n",
    "                          results['std_test_score'][candidate]))\n",
    "            print(\"Parameters: {0}\".format(results['params'][candidate]))\n",
    "            print(\"\")"
   ]
  },
  {
   "cell_type": "code",
   "execution_count": 9,
   "metadata": {},
   "outputs": [],
   "source": [
    "# Parameters grid\n",
    "params = {'tol': 1e-6, 'max_iter': 10000, 'random_state': STATE, 'solver': 'liblinear', \"penalty\": 'l1'}\n",
    "N_FEATURES_OPTIONS =  np.arange(50,110,10)\n",
    "C_OPTIONS = [0.01, 0.02, 0.03, 0.04, 0.05, 0.06, 0.07, 0.08, 0.09, 0.1]\n",
    "CLASS_WEIGHT = [None,'balanced']\n",
    "params_grid = {'reduce_dim__n_components': N_FEATURES_OPTIONS, 'clf__C': C_OPTIONS, 'clf__class_weight': CLASS_WEIGHT}"
   ]
  },
  {
   "cell_type": "code",
   "execution_count": 10,
   "metadata": {},
   "outputs": [
    {
     "name": "stdout",
     "output_type": "stream",
     "text": [
      "Fitting 3 folds for each of 120 candidates, totalling 360 fits\n",
      "GridSearchCV took 264.79 seconds for 120 candidate parameter settings.\n"
     ]
    }
   ],
   "source": [
    "pipeline = Pipeline([\n",
    "    ('scaler', StandardScaler()),\n",
    "    ('reduce_dim', PCA(whiten=True, random_state=STATE)),\n",
    "    ('clf', LogisticRegression(**params))])\n",
    "kfold = StratifiedKFold(n_splits=3, shuffle=True, random_state=STATE)\n",
    "clf_pca = GridSearchCV(pipeline, cv=kfold, verbose=4, param_grid=params_grid, \n",
    "                       n_jobs=15, scoring=score_mcc_)\n",
    "start = time()\n",
    "clf_pca.fit(X_train, y_train)\n",
    "print(\"GridSearchCV took %.2f seconds for %d candidate parameter settings.\"\n",
    "      % (time() - start, len(clf_pca.cv_results_['params'])))"
   ]
  },
  {
   "cell_type": "code",
   "execution_count": 11,
   "metadata": {},
   "outputs": [
    {
     "name": "stdout",
     "output_type": "stream",
     "text": [
      "Model with rank: 1\n",
      "Mean validation score: 0.948 (std: 0.006)\n",
      "Parameters: {'clf__C': 0.06, 'clf__class_weight': 'balanced', 'reduce_dim__n_components': 90}\n",
      "\n",
      "Model with rank: 2\n",
      "Mean validation score: 0.948 (std: 0.005)\n",
      "Parameters: {'clf__C': 0.09, 'clf__class_weight': 'balanced', 'reduce_dim__n_components': 70}\n",
      "\n",
      "Model with rank: 3\n",
      "Mean validation score: 0.948 (std: 0.006)\n",
      "Parameters: {'clf__C': 0.09, 'clf__class_weight': 'balanced', 'reduce_dim__n_components': 90}\n",
      "\n",
      "Model with rank: 4\n",
      "Mean validation score: 0.947 (std: 0.001)\n",
      "Parameters: {'clf__C': 0.1, 'clf__class_weight': None, 'reduce_dim__n_components': 60}\n",
      "\n",
      "Model with rank: 5\n",
      "Mean validation score: 0.947 (std: 0.005)\n",
      "Parameters: {'clf__C': 0.1, 'clf__class_weight': 'balanced', 'reduce_dim__n_components': 70}\n",
      "\n"
     ]
    }
   ],
   "source": [
    "report(clf_pca.cv_results_, n_top=5)"
   ]
  },
  {
   "cell_type": "code",
   "execution_count": 12,
   "metadata": {},
   "outputs": [
    {
     "data": {
      "text/html": [
       "<style>#sk-5e316afa-3bf6-4e6b-b1d9-21354d76ae90 {color: black;background-color: white;}#sk-5e316afa-3bf6-4e6b-b1d9-21354d76ae90 pre{padding: 0;}#sk-5e316afa-3bf6-4e6b-b1d9-21354d76ae90 div.sk-toggleable {background-color: white;}#sk-5e316afa-3bf6-4e6b-b1d9-21354d76ae90 label.sk-toggleable__label {cursor: pointer;display: block;width: 100%;margin-bottom: 0;padding: 0.2em 0.3em;box-sizing: border-box;text-align: center;}#sk-5e316afa-3bf6-4e6b-b1d9-21354d76ae90 div.sk-toggleable__content {max-height: 0;max-width: 0;overflow: hidden;text-align: left;background-color: #f0f8ff;}#sk-5e316afa-3bf6-4e6b-b1d9-21354d76ae90 div.sk-toggleable__content pre {margin: 0.2em;color: black;border-radius: 0.25em;background-color: #f0f8ff;}#sk-5e316afa-3bf6-4e6b-b1d9-21354d76ae90 input.sk-toggleable__control:checked~div.sk-toggleable__content {max-height: 200px;max-width: 100%;overflow: auto;}#sk-5e316afa-3bf6-4e6b-b1d9-21354d76ae90 div.sk-estimator input.sk-toggleable__control:checked~label.sk-toggleable__label {background-color: #d4ebff;}#sk-5e316afa-3bf6-4e6b-b1d9-21354d76ae90 div.sk-label input.sk-toggleable__control:checked~label.sk-toggleable__label {background-color: #d4ebff;}#sk-5e316afa-3bf6-4e6b-b1d9-21354d76ae90 input.sk-hidden--visually {border: 0;clip: rect(1px 1px 1px 1px);clip: rect(1px, 1px, 1px, 1px);height: 1px;margin: -1px;overflow: hidden;padding: 0;position: absolute;width: 1px;}#sk-5e316afa-3bf6-4e6b-b1d9-21354d76ae90 div.sk-estimator {font-family: monospace;background-color: #f0f8ff;margin: 0.25em 0.25em;border: 1px dotted black;border-radius: 0.25em;box-sizing: border-box;}#sk-5e316afa-3bf6-4e6b-b1d9-21354d76ae90 div.sk-estimator:hover {background-color: #d4ebff;}#sk-5e316afa-3bf6-4e6b-b1d9-21354d76ae90 div.sk-parallel-item::after {content: \"\";width: 100%;border-bottom: 1px solid gray;flex-grow: 1;}#sk-5e316afa-3bf6-4e6b-b1d9-21354d76ae90 div.sk-label:hover label.sk-toggleable__label {background-color: #d4ebff;}#sk-5e316afa-3bf6-4e6b-b1d9-21354d76ae90 div.sk-serial::before {content: \"\";position: absolute;border-left: 1px solid gray;box-sizing: border-box;top: 2em;bottom: 0;left: 50%;}#sk-5e316afa-3bf6-4e6b-b1d9-21354d76ae90 div.sk-serial {display: flex;flex-direction: column;align-items: center;background-color: white;}#sk-5e316afa-3bf6-4e6b-b1d9-21354d76ae90 div.sk-item {z-index: 1;}#sk-5e316afa-3bf6-4e6b-b1d9-21354d76ae90 div.sk-parallel {display: flex;align-items: stretch;justify-content: center;background-color: white;}#sk-5e316afa-3bf6-4e6b-b1d9-21354d76ae90 div.sk-parallel-item {display: flex;flex-direction: column;position: relative;background-color: white;}#sk-5e316afa-3bf6-4e6b-b1d9-21354d76ae90 div.sk-parallel-item:first-child::after {align-self: flex-end;width: 50%;}#sk-5e316afa-3bf6-4e6b-b1d9-21354d76ae90 div.sk-parallel-item:last-child::after {align-self: flex-start;width: 50%;}#sk-5e316afa-3bf6-4e6b-b1d9-21354d76ae90 div.sk-parallel-item:only-child::after {width: 0;}#sk-5e316afa-3bf6-4e6b-b1d9-21354d76ae90 div.sk-dashed-wrapped {border: 1px dashed gray;margin: 0.2em;box-sizing: border-box;padding-bottom: 0.1em;background-color: white;position: relative;}#sk-5e316afa-3bf6-4e6b-b1d9-21354d76ae90 div.sk-label label {font-family: monospace;font-weight: bold;background-color: white;display: inline-block;line-height: 1.2em;}#sk-5e316afa-3bf6-4e6b-b1d9-21354d76ae90 div.sk-label-container {position: relative;z-index: 2;text-align: center;}#sk-5e316afa-3bf6-4e6b-b1d9-21354d76ae90 div.sk-container {display: inline-block;position: relative;}</style><div id=\"sk-5e316afa-3bf6-4e6b-b1d9-21354d76ae90\" class\"sk-top-container\"><div class=\"sk-container\"><div class=\"sk-item sk-dashed-wrapped\"><div class=\"sk-label-container\"><div class=\"sk-label sk-toggleable\"><input class=\"sk-toggleable__control sk-hidden--visually\" id=\"06ae28f2-a193-42b5-87cc-a6e2c00d3ef4\" type=\"checkbox\" ><label class=\"sk-toggleable__label\" for=\"06ae28f2-a193-42b5-87cc-a6e2c00d3ef4\">Pipeline</label><div class=\"sk-toggleable__content\"><pre>Pipeline(steps=[('scaler', StandardScaler()),\n",
       "                ('reduce_dim',\n",
       "                 PCA(n_components=90, random_state=42, whiten=True)),\n",
       "                ('clf',\n",
       "                 LogisticRegression(C=0.06, class_weight='balanced',\n",
       "                                    max_iter=10000, penalty='l1',\n",
       "                                    random_state=42, solver='liblinear',\n",
       "                                    tol=1e-06))])</pre></div></div></div><div class=\"sk-serial\"><div class=\"sk-item\"><div class=\"sk-estimator sk-toggleable\"><input class=\"sk-toggleable__control sk-hidden--visually\" id=\"3d989b88-a23f-4d25-9eec-ae4df9a1e8ad\" type=\"checkbox\" ><label class=\"sk-toggleable__label\" for=\"3d989b88-a23f-4d25-9eec-ae4df9a1e8ad\">StandardScaler</label><div class=\"sk-toggleable__content\"><pre>StandardScaler()</pre></div></div></div><div class=\"sk-item\"><div class=\"sk-estimator sk-toggleable\"><input class=\"sk-toggleable__control sk-hidden--visually\" id=\"0e801991-f08d-45ec-853a-b29bf4e750cc\" type=\"checkbox\" ><label class=\"sk-toggleable__label\" for=\"0e801991-f08d-45ec-853a-b29bf4e750cc\">PCA</label><div class=\"sk-toggleable__content\"><pre>PCA(n_components=90, random_state=42, whiten=True)</pre></div></div></div><div class=\"sk-item\"><div class=\"sk-estimator sk-toggleable\"><input class=\"sk-toggleable__control sk-hidden--visually\" id=\"db662c4b-5b0a-4f4b-9af3-222fb207a9b7\" type=\"checkbox\" ><label class=\"sk-toggleable__label\" for=\"db662c4b-5b0a-4f4b-9af3-222fb207a9b7\">LogisticRegression</label><div class=\"sk-toggleable__content\"><pre>LogisticRegression(C=0.06, class_weight='balanced', max_iter=10000,\n",
       "                   penalty='l1', random_state=42, solver='liblinear',\n",
       "                   tol=1e-06)</pre></div></div></div></div></div></div></div>"
      ],
      "text/plain": [
       "Pipeline(steps=[('scaler', StandardScaler()),\n",
       "                ('reduce_dim',\n",
       "                 PCA(n_components=90, random_state=42, whiten=True)),\n",
       "                ('clf',\n",
       "                 LogisticRegression(C=0.06, class_weight='balanced',\n",
       "                                    max_iter=10000, penalty='l1',\n",
       "                                    random_state=42, solver='liblinear',\n",
       "                                    tol=1e-06))])"
      ]
     },
     "metadata": {},
     "output_type": "display_data"
    }
   ],
   "source": [
    "# Pipeline with a set of optimal hyperparameters\n",
    "from sklearn import set_config\n",
    "set_config(display='diagram')\n",
    "display(clf_pca.best_estimator_)\n",
    "pca = clf_pca.best_estimator_.named_steps['reduce_dim']"
   ]
  },
  {
   "cell_type": "code",
   "execution_count": 13,
   "metadata": {},
   "outputs": [
    {
     "data": {
      "image/png": "[encoded data removed]",
      "text/plain": [
       "<Figure size 432x288 with 1 Axes>"
      ]
     },
     "metadata": {
      "needs_background": "light"
     },
     "output_type": "display_data"
    }
   ],
   "source": [
    "plt.plot(np.cumsum(pca.explained_variance_ratio_ * 100))\n",
    "plt.xlabel(\"Number of components (Dimensions)\")\n",
    "plt.ylabel(\"Explained variance (%)\")\n",
    "plt.show()"
   ]
  },
  {
   "cell_type": "code",
   "execution_count": 14,
   "metadata": {},
   "outputs": [
    {
     "data": {
      "image/png": "[encoded data removed]",
      "text/plain": [
       "<Figure size 432x288 with 1 Axes>"
      ]
     },
     "metadata": {
      "needs_background": "light"
     },
     "output_type": "display_data"
    }
   ],
   "source": [
    "plt.bar(range(pca.n_components), pca.explained_variance_)\n",
    "plt.title(\"Eigenvalues\")\n",
    "plt.show()"
   ]
  },
  {
   "cell_type": "code",
   "execution_count": 15,
   "metadata": {},
   "outputs": [
    {
     "data": {
      "text/html": [
       "<style>#sk-38415863-c41d-406c-89c1-824e6494902c {color: black;background-color: white;}#sk-38415863-c41d-406c-89c1-824e6494902c pre{padding: 0;}#sk-38415863-c41d-406c-89c1-824e6494902c div.sk-toggleable {background-color: white;}#sk-38415863-c41d-406c-89c1-824e6494902c label.sk-toggleable__label {cursor: pointer;display: block;width: 100%;margin-bottom: 0;padding: 0.2em 0.3em;box-sizing: border-box;text-align: center;}#sk-38415863-c41d-406c-89c1-824e6494902c div.sk-toggleable__content {max-height: 0;max-width: 0;overflow: hidden;text-align: left;background-color: #f0f8ff;}#sk-38415863-c41d-406c-89c1-824e6494902c div.sk-toggleable__content pre {margin: 0.2em;color: black;border-radius: 0.25em;background-color: #f0f8ff;}#sk-38415863-c41d-406c-89c1-824e6494902c input.sk-toggleable__control:checked~div.sk-toggleable__content {max-height: 200px;max-width: 100%;overflow: auto;}#sk-38415863-c41d-406c-89c1-824e6494902c div.sk-estimator input.sk-toggleable__control:checked~label.sk-toggleable__label {background-color: #d4ebff;}#sk-38415863-c41d-406c-89c1-824e6494902c div.sk-label input.sk-toggleable__control:checked~label.sk-toggleable__label {background-color: #d4ebff;}#sk-38415863-c41d-406c-89c1-824e6494902c input.sk-hidden--visually {border: 0;clip: rect(1px 1px 1px 1px);clip: rect(1px, 1px, 1px, 1px);height: 1px;margin: -1px;overflow: hidden;padding: 0;position: absolute;width: 1px;}#sk-38415863-c41d-406c-89c1-824e6494902c div.sk-estimator {font-family: monospace;background-color: #f0f8ff;margin: 0.25em 0.25em;border: 1px dotted black;border-radius: 0.25em;box-sizing: border-box;}#sk-38415863-c41d-406c-89c1-824e6494902c div.sk-estimator:hover {background-color: #d4ebff;}#sk-38415863-c41d-406c-89c1-824e6494902c div.sk-parallel-item::after {content: \"\";width: 100%;border-bottom: 1px solid gray;flex-grow: 1;}#sk-38415863-c41d-406c-89c1-824e6494902c div.sk-label:hover label.sk-toggleable__label {background-color: #d4ebff;}#sk-38415863-c41d-406c-89c1-824e6494902c div.sk-serial::before {content: \"\";position: absolute;border-left: 1px solid gray;box-sizing: border-box;top: 2em;bottom: 0;left: 50%;}#sk-38415863-c41d-406c-89c1-824e6494902c div.sk-serial {display: flex;flex-direction: column;align-items: center;background-color: white;}#sk-38415863-c41d-406c-89c1-824e6494902c div.sk-item {z-index: 1;}#sk-38415863-c41d-406c-89c1-824e6494902c div.sk-parallel {display: flex;align-items: stretch;justify-content: center;background-color: white;}#sk-38415863-c41d-406c-89c1-824e6494902c div.sk-parallel-item {display: flex;flex-direction: column;position: relative;background-color: white;}#sk-38415863-c41d-406c-89c1-824e6494902c div.sk-parallel-item:first-child::after {align-self: flex-end;width: 50%;}#sk-38415863-c41d-406c-89c1-824e6494902c div.sk-parallel-item:last-child::after {align-self: flex-start;width: 50%;}#sk-38415863-c41d-406c-89c1-824e6494902c div.sk-parallel-item:only-child::after {width: 0;}#sk-38415863-c41d-406c-89c1-824e6494902c div.sk-dashed-wrapped {border: 1px dashed gray;margin: 0.2em;box-sizing: border-box;padding-bottom: 0.1em;background-color: white;position: relative;}#sk-38415863-c41d-406c-89c1-824e6494902c div.sk-label label {font-family: monospace;font-weight: bold;background-color: white;display: inline-block;line-height: 1.2em;}#sk-38415863-c41d-406c-89c1-824e6494902c div.sk-label-container {position: relative;z-index: 2;text-align: center;}#sk-38415863-c41d-406c-89c1-824e6494902c div.sk-container {display: inline-block;position: relative;}</style><div id=\"sk-38415863-c41d-406c-89c1-824e6494902c\" class\"sk-top-container\"><div class=\"sk-container\"><div class=\"sk-item\"><div class=\"sk-estimator sk-toggleable\"><input class=\"sk-toggleable__control sk-hidden--visually\" id=\"283e3a66-3ddd-4248-8eba-35947741cafc\" type=\"checkbox\" checked><label class=\"sk-toggleable__label\" for=\"283e3a66-3ddd-4248-8eba-35947741cafc\">LogisticRegression</label><div class=\"sk-toggleable__content\"><pre>LogisticRegression(C=0.06, class_weight='balanced', max_iter=10000,\n",
       "                   penalty='l1', random_state=42, solver='liblinear',\n",
       "                   tol=1e-06)</pre></div></div></div></div></div>"
      ],
      "text/plain": [
       "LogisticRegression(C=0.06, class_weight='balanced', max_iter=10000,\n",
       "                   penalty='l1', random_state=42, solver='liblinear',\n",
       "                   tol=1e-06)"
      ]
     },
     "execution_count": 15,
     "metadata": {},
     "output_type": "execute_result"
    }
   ],
   "source": [
    "scl = clf_pca.best_estimator_.named_steps['scaler']\n",
    "model = clf_pca.best_estimator_.named_steps['clf']\n",
    "X_scaled_train = scl.transform(X_train.values)\n",
    "X_pca_train = pca.transform(X_scaled_train)\n",
    "model.fit(X_pca_train, y_train)"
   ]
  },
  {
   "cell_type": "markdown",
   "metadata": {},
   "source": [
    "## PCA pipeline scores"
   ]
  },
  {
   "cell_type": "code",
   "execution_count": 16,
   "metadata": {},
   "outputs": [
    {
     "name": "stdout",
     "output_type": "stream",
     "text": [
      "Search for the best threshold by maximizing \"matthews_corrcoef\":\n",
      "Threshold =\t0.303661940271784\n",
      "Bal. Acc. =\t0.9773891499083125\n",
      "Accuracy =\t0.9819545050196975\n",
      "MCC score =\t0.9526000864570916\t\n",
      "\n",
      "Search for the best threshold by maximizing \"balanced_accuracy\":\n",
      "Threshold =\t0.5748838504037912\n",
      "Bal. Acc. =\t0.9817751834601763\n",
      "Accuracy =\t0.9801753717117804\n",
      "MCC score =\t0.9490802551827316\t\n",
      "\n",
      "Bal. Acc. =\t0.731\n",
      "Accuracy =\t0.801\n",
      "MCC score =\t0.467\t\n",
      "\n",
      "Bal. Acc. =\t0.689\n",
      "Accuracy =\t0.737\n",
      "MCC score =\t0.408\t\n",
      "\n"
     ]
    },
    {
     "data": {
      "text/plain": [
       "(0.7366962305986696, 0.4076846783518618)"
      ]
     },
     "execution_count": 16,
     "metadata": {},
     "output_type": "execute_result"
    }
   ],
   "source": [
    "# Pipeline scores maximizing MCC on train set\n",
    "yhat_train = clf_pca.predict_proba(X_train)[:, 1]\n",
    "thr_mcc, _, _ = print_thresholds(y_train, yhat_train)\n",
    "yhat_valid = clf_pca.predict_proba(X_valid)[:, 1]\n",
    "y_pred_thr_mcc_valid = np.where(yhat_valid >= thr_mcc, 1, 0)\n",
    "print_scores(y_valid, y_pred_thr_mcc_valid)\n",
    "yhat_test = clf_pca.predict_proba(X_test)[:, 1]\n",
    "y_pred_thr_mcc = np.where(yhat_test >= thr_mcc, 1, 0)\n",
    "print_scores(y_test, y_pred_thr_mcc)"
   ]
  },
  {
   "cell_type": "markdown",
   "metadata": {},
   "source": [
    "# PCs Shapley values"
   ]
  },
  {
   "cell_type": "code",
   "execution_count": 17,
   "metadata": {},
   "outputs": [],
   "source": [
    "import shap"
   ]
  },
  {
   "cell_type": "code",
   "execution_count": 18,
   "metadata": {},
   "outputs": [],
   "source": [
    "import seaborn as sns\n",
    "cmap = sns.color_palette(\"mako\", as_cmap= True)"
   ]
  },
  {
   "cell_type": "code",
   "execution_count": 19,
   "metadata": {},
   "outputs": [],
   "source": [
    "excluded = {\"Imperative\", \"Violations\"}\n",
    "def list_grammar_features(df):\n",
    "    after = 'detailed_source'\n",
    "    r = []\n",
    "    take = False\n",
    "    for c in df.columns:\n",
    "        if take and c and c not in excluded:\n",
    "            r.append(c)\n",
    "        if c == after:\n",
    "            take = True\n",
    "    return r\n",
    "def select_grammar_feature(XXX, yyy, name, cut_size=0):\n",
    "    phenomena_df = cola_gr_major.copy()\n",
    "    if cut_size:\n",
    "        phenomena_df = phenomena_df.iloc[cut_size:, :]\n",
    "    idx = phenomena_df[name] == 1\n",
    "    Xf = XXX[idx].copy()\n",
    "    yf = yyy[idx].copy()\n",
    "    return idx, Xf, yf"
   ]
  },
  {
   "cell_type": "code",
   "execution_count": 20,
   "metadata": {},
   "outputs": [],
   "source": [
    "cola_gr_major = pd.read_csv(data_dir + \"phenomena.csv\", index_col=0)\n",
    "cola_gr_major = cola_gr_major[cola_gr_major['sentence'].isin(np.concatenate((sents_valid.values,sents_test.values), axis=None))]\n",
    "cola_gr_major = cola_gr_major.reset_index()"
   ]
  },
  {
   "cell_type": "code",
   "execution_count": 21,
   "metadata": {},
   "outputs": [],
   "source": [
    "# concatenate dev and test for local Shapley values calculation\n",
    "XX = pd.concat([X_valid.loc[:, X_train.columns], X_test.loc[:, X_train.columns]], axis = 0).reset_index(drop=True)\n",
    "yy = np.concatenate((y_valid, y_test), axis = 0)"
   ]
  },
  {
   "cell_type": "code",
   "execution_count": 22,
   "metadata": {},
   "outputs": [],
   "source": [
    "pca = clf_pca.best_estimator_.named_steps['reduce_dim']\n",
    "scl = clf_pca.best_estimator_.named_steps['scaler']\n",
    "model = clf_pca.best_estimator_.named_steps['clf']\n",
    "X_scaled_train = scl.transform(X_train.values)\n",
    "X_shap_train = pca.transform(X_scaled_train)\n",
    "model.fit(X_shap_train, y_train)\n",
    "X_scaled_test = scl.transform(XX)\n",
    "X_shap_test = pca.transform(X_scaled_test)\n",
    "explainer = shap.LinearExplainer(model, X_shap_train)\n",
    "shap_values = explainer.shap_values(X_shap_test)"
   ]
  },
  {
   "cell_type": "code",
   "execution_count": 23,
   "metadata": {},
   "outputs": [
    {
     "data": {
      "image/png": "[encoded data removed]",
      "text/plain": [
       "<Figure size 576x684 with 2 Axes>"
      ]
     },
     "metadata": {
      "needs_background": "light"
     },
     "output_type": "display_data"
    }
   ],
   "source": [
    "shap.summary_plot(shap_values, X_shap_test, \n",
    "                  cmap = cmap, plot_type = \"dot\", axis_color = \"black\",\n",
    "                  show = False,feature_names=[str(i) for i in range(shap_values.shape[1])])\n",
    "plt.ylabel(\"Component #\")\n",
    "plt.show()"
   ]
  },
  {
   "cell_type": "code",
   "execution_count": 24,
   "metadata": {},
   "outputs": [
    {
     "data": {
      "text/html": [
       "<div>\n",
       "<style scoped>\n",
       "    .dataframe tbody tr th:only-of-type {\n",
       "        vertical-align: middle;\n",
       "    }\n",
       "\n",
       "    .dataframe tbody tr th {\n",
       "        vertical-align: top;\n",
       "    }\n",
       "\n",
       "    .dataframe thead th {\n",
       "        text-align: right;\n",
       "    }\n",
       "</style>\n",
       "<table border=\"1\" class=\"dataframe\">\n",
       "  <thead>\n",
       "    <tr style=\"text-align: right;\">\n",
       "      <th></th>\n",
       "      <th>Mean(|SHAP value|)</th>\n",
       "    </tr>\n",
       "    <tr>\n",
       "      <th>PC#</th>\n",
       "      <th></th>\n",
       "    </tr>\n",
       "  </thead>\n",
       "  <tbody>\n",
       "    <tr>\n",
       "      <th>1</th>\n",
       "      <td>1.951528</td>\n",
       "    </tr>\n",
       "    <tr>\n",
       "      <th>0</th>\n",
       "      <td>0.934683</td>\n",
       "    </tr>\n",
       "    <tr>\n",
       "      <th>7</th>\n",
       "      <td>0.708084</td>\n",
       "    </tr>\n",
       "    <tr>\n",
       "      <th>2</th>\n",
       "      <td>0.470299</td>\n",
       "    </tr>\n",
       "    <tr>\n",
       "      <th>6</th>\n",
       "      <td>0.326879</td>\n",
       "    </tr>\n",
       "    <tr>\n",
       "      <th>12</th>\n",
       "      <td>0.325682</td>\n",
       "    </tr>\n",
       "    <tr>\n",
       "      <th>8</th>\n",
       "      <td>0.310677</td>\n",
       "    </tr>\n",
       "    <tr>\n",
       "      <th>11</th>\n",
       "      <td>0.256492</td>\n",
       "    </tr>\n",
       "    <tr>\n",
       "      <th>5</th>\n",
       "      <td>0.232557</td>\n",
       "    </tr>\n",
       "    <tr>\n",
       "      <th>13</th>\n",
       "      <td>0.218098</td>\n",
       "    </tr>\n",
       "    <tr>\n",
       "      <th>4</th>\n",
       "      <td>0.183848</td>\n",
       "    </tr>\n",
       "    <tr>\n",
       "      <th>3</th>\n",
       "      <td>0.182959</td>\n",
       "    </tr>\n",
       "    <tr>\n",
       "      <th>43</th>\n",
       "      <td>0.171854</td>\n",
       "    </tr>\n",
       "    <tr>\n",
       "      <th>20</th>\n",
       "      <td>0.152305</td>\n",
       "    </tr>\n",
       "    <tr>\n",
       "      <th>15</th>\n",
       "      <td>0.110246</td>\n",
       "    </tr>\n",
       "    <tr>\n",
       "      <th>33</th>\n",
       "      <td>0.107584</td>\n",
       "    </tr>\n",
       "    <tr>\n",
       "      <th>56</th>\n",
       "      <td>0.104131</td>\n",
       "    </tr>\n",
       "    <tr>\n",
       "      <th>27</th>\n",
       "      <td>0.096950</td>\n",
       "    </tr>\n",
       "    <tr>\n",
       "      <th>16</th>\n",
       "      <td>0.091314</td>\n",
       "    </tr>\n",
       "    <tr>\n",
       "      <th>45</th>\n",
       "      <td>0.089274</td>\n",
       "    </tr>\n",
       "  </tbody>\n",
       "</table>\n",
       "</div>"
      ],
      "text/plain": [
       "     Mean(|SHAP value|)\n",
       "PC#                    \n",
       "1              1.951528\n",
       "0              0.934683\n",
       "7              0.708084\n",
       "2              0.470299\n",
       "6              0.326879\n",
       "12             0.325682\n",
       "8              0.310677\n",
       "11             0.256492\n",
       "5              0.232557\n",
       "13             0.218098\n",
       "4              0.183848\n",
       "3              0.182959\n",
       "43             0.171854\n",
       "20             0.152305\n",
       "15             0.110246\n",
       "33             0.107584\n",
       "56             0.104131\n",
       "27             0.096950\n",
       "16             0.091314\n",
       "45             0.089274"
      ]
     },
     "execution_count": 24,
     "metadata": {},
     "output_type": "execute_result"
    }
   ],
   "source": [
    "pca_comp_imp = pd.DataFrame(shap_values)\n",
    "shapley_important_comp = np.argsort(np.abs(pca_comp_imp.values).mean(0))[-20:][::-1]\n",
    "mean_pca_scores = pd.DataFrame(data=np.mean(np.abs(shap_values[:,[shapley_important_comp]]), axis = 0).T, index =shapley_important_comp, columns = [\"Mean(|SHAP value|)\"])\n",
    "mean_pca_scores.index.name=\"PC#\"\n",
    "mean_pca_scores"
   ]
  },
  {
   "cell_type": "code",
   "execution_count": 25,
   "metadata": {},
   "outputs": [],
   "source": [
    "from collections import defaultdict,Counter"
   ]
  },
  {
   "cell_type": "code",
   "execution_count": 26,
   "metadata": {},
   "outputs": [
    {
     "data": {
      "image/png": "[encoded data removed]",
      "text/plain": [
       "<Figure size 720x432 with 1 Axes>"
      ]
     },
     "metadata": {
      "needs_background": "light"
     },
     "output_type": "display_data"
    }
   ],
   "source": [
    "plt.rcParams[\"figure.figsize\"] = (10,6)\n",
    "cmap = sns.color_palette(\"dark\")[::-1]\n",
    "plt.rcParams.update({'font.size': 12})\n",
    "fig, ax = plt.subplots()\n",
    "max_display = 5 # # of important components to show\n",
    "all_phenomena = list_grammar_features(cola_gr_major)\n",
    "y_pos = np.arange(len(all_phenomena))\n",
    "left_pos = np.zeros(len(all_phenomena))\n",
    "for p,f in enumerate(all_phenomena):\n",
    "    phenomena_idx, _, _ = select_grammar_feature(XX.values, yy, f)\n",
    "    feature_order = pd.DataFrame(shap_values[phenomena_idx, :])\n",
    "    feature_inds = feature_order.loc[:,np.argsort(np.abs(feature_order.values).mean(0))[-max_display:]].columns[::-1].tolist()\n",
    "    for ind,i in enumerate(feature_inds):\n",
    "        global_shap_values = np.zeros(len(all_phenomena))\n",
    "        global_shap_values[p] = np.abs(shap_values[phenomena_idx, i]).mean(0) \n",
    "        ax.barh(y_pos, global_shap_values, left=left_pos, align='center',\n",
    "                color=cmap[ind], label=i, edgecolor = \"black\", \n",
    "                linewidth = 0.8, alpha = 0.8)\n",
    "        left_pos += global_shap_values\n",
    "handles, labels = ax.get_legend_handles_labels()\n",
    "order = Counter(labels)\n",
    "unique = sorted([(h, l) for i, (h, l) in enumerate(zip(handles, labels)) if l not in labels[:i]], \n",
    "                key = lambda x: order[x[-1]],reverse =True)\n",
    "ax.legend(*zip(*unique),title = \"Component #\",frameon=True, ncol=len(unique),loc='upper center', bbox_to_anchor=(0.5, -0.1))\n",
    "ax.set_yticks(y_pos)\n",
    "plt.gca().set_yticklabels(all_phenomena)\n",
    "plt.gca().yaxis.set_ticks_position('none')\n",
    "plt.gca().spines['right'].set_visible(False)\n",
    "plt.gca().spines['top'].set_visible(False)\n",
    "plt.xlabel(\"mean(|SHAP value|) (average impact on model output magnitude)\")\n",
    "plt.show()"
   ]
  },
  {
   "cell_type": "code",
   "execution_count": 27,
   "metadata": {},
   "outputs": [],
   "source": [
    "def sorted_features(v, X):\n",
    "    \"\"\"\n",
    "    Return data frame with names and values sorted by absolute values in descending order\n",
    "    Args:\n",
    "        X (pandas.DataFrame) - input Frame\n",
    "        v (np.array[int]) - coeffs numpy vector\n",
    "    \"\"\"\n",
    "    idx = list(np.argsort(np.abs(v)))\n",
    "    idx.reverse()\n",
    "    df = pd.DataFrame([{'name': X.columns[j], 'idx': j, 'value': v[j]} for j in idx])\n",
    "    return df"
   ]
  },
  {
   "cell_type": "code",
   "execution_count": 28,
   "metadata": {},
   "outputs": [],
   "source": [
    "pd.options.display.max_colwidth = None"
   ]
  },
  {
   "cell_type": "code",
   "execution_count": 29,
   "metadata": {},
   "outputs": [
    {
     "data": {
      "text/html": [
       "<div>\n",
       "<style scoped>\n",
       "    .dataframe tbody tr th:only-of-type {\n",
       "        vertical-align: middle;\n",
       "    }\n",
       "\n",
       "    .dataframe tbody tr th {\n",
       "        vertical-align: top;\n",
       "    }\n",
       "\n",
       "    .dataframe thead th {\n",
       "        text-align: right;\n",
       "    }\n",
       "</style>\n",
       "<table border=\"1\" class=\"dataframe\">\n",
       "  <thead>\n",
       "    <tr style=\"text-align: right;\">\n",
       "      <th></th>\n",
       "      <th>Features</th>\n",
       "    </tr>\n",
       "    <tr>\n",
       "      <th>PC#</th>\n",
       "      <th></th>\n",
       "    </tr>\n",
       "  </thead>\n",
       "  <tbody>\n",
       "    <tr>\n",
       "      <th>1</th>\n",
       "      <td>v_t0.75_11_10, v_t0.5_11_10, v_t0.5_11_11, v_t0.5_11_1, v_t0.75_11_3</td>\n",
       "    </tr>\n",
       "    <tr>\n",
       "      <th>0</th>\n",
       "      <td>s_t0.5_1_3, s_t0.5_0_0, s_t0.25_3_4, s_t0.5_2_0, s_t0.75_1_7</td>\n",
       "    </tr>\n",
       "    <tr>\n",
       "      <th>7</th>\n",
       "      <td>v_t0.05_9_2, v_t0.025_8_4, v_t0.025_9_2, v_t0.1_9_2, v_t0.5_9_2</td>\n",
       "    </tr>\n",
       "    <tr>\n",
       "      <th>2</th>\n",
       "      <td>c_t0.75_7_11, b1_t0.75_7_11, b1_t0.75_7_2, b1_t0.75_7_5, c_t0.75_7_5</td>\n",
       "    </tr>\n",
       "    <tr>\n",
       "      <th>6</th>\n",
       "      <td>dot_4_4, dot_4_7, dot_3_7, dot_0_8, dot_3_6</td>\n",
       "    </tr>\n",
       "    <tr>\n",
       "      <th>12</th>\n",
       "      <td>c_t0.1_11_8, v_t0.1_11_8, v_t0.1_11_5, v_t0.1_11_1, v_t0.1_11_3</td>\n",
       "    </tr>\n",
       "    <tr>\n",
       "      <th>8</th>\n",
       "      <td>comma_9_8, comma_9_1, comma_9_11, comma_9_6, comma_10_8</td>\n",
       "    </tr>\n",
       "    <tr>\n",
       "      <th>11</th>\n",
       "      <td>v_t0.025_8_10, v_t0.025_5_11, beginning_5_8, m_t0.25_11_6, h0_n_d_l_t0.25_5_3</td>\n",
       "    </tr>\n",
       "    <tr>\n",
       "      <th>5</th>\n",
       "      <td>dot_9_8, dot_6_9, dot_9_9, dot_8_3, dot_6_6</td>\n",
       "    </tr>\n",
       "    <tr>\n",
       "      <th>13</th>\n",
       "      <td>h0_n_d_l_t0.25_4_1, e_t0.75_4_1, e_t0.75_5_8, v_t0.05_4_1, v_t0.75_5_8</td>\n",
       "    </tr>\n",
       "    <tr>\n",
       "      <th>9</th>\n",
       "      <td>comma_8_4, comma_5_11, comma_7_0, comma_7_3, comma_8_1</td>\n",
       "    </tr>\n",
       "    <tr>\n",
       "      <th>56</th>\n",
       "      <td>e_t0.75_0_10, h1_n_b_m_t0.25_2_10, h1_nb_2_10, h1_n_b_l_t0.95_2_10, h0_n_d_l_t0.25_0_10</td>\n",
       "    </tr>\n",
       "  </tbody>\n",
       "</table>\n",
       "</div>"
      ],
      "text/plain": [
       "                                                                                    Features\n",
       "PC#                                                                                         \n",
       "1                       v_t0.75_11_10, v_t0.5_11_10, v_t0.5_11_11, v_t0.5_11_1, v_t0.75_11_3\n",
       "0                               s_t0.5_1_3, s_t0.5_0_0, s_t0.25_3_4, s_t0.5_2_0, s_t0.75_1_7\n",
       "7                            v_t0.05_9_2, v_t0.025_8_4, v_t0.025_9_2, v_t0.1_9_2, v_t0.5_9_2\n",
       "2                       c_t0.75_7_11, b1_t0.75_7_11, b1_t0.75_7_2, b1_t0.75_7_5, c_t0.75_7_5\n",
       "6                                                dot_4_4, dot_4_7, dot_3_7, dot_0_8, dot_3_6\n",
       "12                           c_t0.1_11_8, v_t0.1_11_8, v_t0.1_11_5, v_t0.1_11_1, v_t0.1_11_3\n",
       "8                                    comma_9_8, comma_9_1, comma_9_11, comma_9_6, comma_10_8\n",
       "11             v_t0.025_8_10, v_t0.025_5_11, beginning_5_8, m_t0.25_11_6, h0_n_d_l_t0.25_5_3\n",
       "5                                                dot_9_8, dot_6_9, dot_9_9, dot_8_3, dot_6_6\n",
       "13                    h0_n_d_l_t0.25_4_1, e_t0.75_4_1, e_t0.75_5_8, v_t0.05_4_1, v_t0.75_5_8\n",
       "9                                     comma_8_4, comma_5_11, comma_7_0, comma_7_3, comma_8_1\n",
       "56   e_t0.75_0_10, h1_n_b_m_t0.25_2_10, h1_nb_2_10, h1_n_b_l_t0.95_2_10, h0_n_d_l_t0.25_0_10"
      ]
     },
     "execution_count": 29,
     "metadata": {},
     "output_type": "execute_result"
    }
   ],
   "source": [
    "pca_not_imp = [9,56] # ex of the least important components addition\n",
    "pca_features = [[f\"{i}\", \", \".join(sorted_features(pca.components_[i], X_train)[\"name\"].values[:5])] for i in shapley_important_comp.tolist()[:10] + pca_not_imp]\n",
    "pca_inner_structure = pd.DataFrame(pca_features, columns = [\"PC#\", \"Features\"]).set_index(\"PC#\")\n",
    "pca_inner_structure # first 10 important components + 2 defined insignificant"
   ]
  }
 ],
 "metadata": {
  "colab": {
   "collapsed_sections": [],
   "provenance": []
  },
  "kernelspec": {
   "display_name": "Python 3 (ipykernel)",
   "language": "python",
   "name": "python3"
  },
  "language_info": {
   "codemirror_mode": {
    "name": "ipython",
    "version": 3
   },
   "file_extension": ".py",
   "mimetype": "text/x-python",
   "name": "python",
   "nbconvert_exporter": "python",
   "pygments_lexer": "ipython3",
   "version": "3.9.7"
  }
 },
 "nbformat": 4,
 "nbformat_minor": 4
}
